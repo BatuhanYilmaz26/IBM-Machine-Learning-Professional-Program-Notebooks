{
 "cells": [
  {
   "cell_type": "markdown",
   "id": "1f22b1f4",
   "metadata": {},
   "source": [
    "# Machine Learning Foundation\n",
    "## Course 2, Part b: Regression Setup, Train-test Split LAB"
   ]
  },
  {
   "cell_type": "markdown",
   "id": "3d09baa3",
   "metadata": {},
   "source": [
    "### Introduction\n",
    "We will be working with a data set based on housing prices in Ames, Iowa. It was compiled for educational use to be a modernized and expanded alternative to the well-known Boston Housing dataset. This version of the data set has had some missing values filled for convenience.\n",
    "\n",
    "There are an extensive number of features, so they've been described in the table below."
   ]
  },
  {
   "cell_type": "markdown",
   "id": "c9531be6",
   "metadata": {},
   "source": [
    "### Predictor\n",
    "\n",
    "- SalePrice: The property's sale price in dollars.\n",
    "\n",
    "### Features\n",
    "\n",
    "- MoSold: Month Sold\n",
    "- YrSold: Year Sold\n",
    "- SaleType: Type of sale\n",
    "- SaleCondition: Condition of sale\n",
    "- MSSubClass: The building class\n",
    "- MSZoning: The general zoning classification"
   ]
  },
  {
   "cell_type": "markdown",
   "id": "0f142487",
   "metadata": {},
   "source": [
    "### Question 1\n",
    "- Import the data using Pandas and examine the shape. There are 79 feature columns plus the predictor, the sale price (SalePrice).\n",
    "- There are three different types: integers (int64), floats (float64), and strings (object, categoricals). Examine how many there are of each data type."
   ]
  },
  {
   "cell_type": "code",
   "execution_count": 1,
   "id": "39c960ca",
   "metadata": {},
   "outputs": [
    {
     "name": "stdout",
     "output_type": "stream",
     "text": [
      "(1379, 80)\n"
     ]
    }
   ],
   "source": [
    "import pandas as pd\n",
    "import numpy as np\n",
    "\n",
    "data = pd.read_csv(\"Ames_Housing_Sales.csv\")\n",
    "print(data.shape)"
   ]
  },
  {
   "cell_type": "code",
   "execution_count": 4,
   "id": "98d4f3f2",
   "metadata": {},
   "outputs": [
    {
     "data": {
      "text/plain": [
       "object     43\n",
       "float64    21\n",
       "int64      16\n",
       "dtype: int64"
      ]
     },
     "execution_count": 4,
     "metadata": {},
     "output_type": "execute_result"
    }
   ],
   "source": [
    "data.dtypes.value_counts()"
   ]
  },
  {
   "cell_type": "markdown",
   "id": "99fa35ff",
   "metadata": {},
   "source": [
    "### Question 2\n",
    "- A significant challenge, particularly when dealing with data that have many columns, is ensuring each column gets encoded correctly.\n",
    "\n",
    "- This is particularly true with data columns that are ordered categoricals (ordinals) vs unordered categoricals. \n",
    "    - **Unordered categoricals should be one-hot encoded, however this can significantly increase the number of features and creates features that are highly correlated with each other.**\n",
    "\n",
    "- Determine how many total features would be present, relative to what currently exists, if all string (object) features are one-hot encoded. \n",
    "    - Recall that the total number of one-hot encoded columns is n-1, where n is the number of categories."
   ]
  },
  {
   "cell_type": "code",
   "execution_count": 5,
   "id": "2037bce9",
   "metadata": {},
   "outputs": [],
   "source": [
    "# Select the object (string) columns\n",
    "mask = data.dtypes == np.object\n",
    "categorical_cols = data.columns[mask]"
   ]
  },
  {
   "cell_type": "code",
   "execution_count": 6,
   "id": "397f2ea5",
   "metadata": {},
   "outputs": [],
   "source": [
    "# Determine how many extra columns would be created\n",
    "num_ohc_cols = (data[categorical_cols]\n",
    "                .apply(lambda x: x.nunique())\n",
    "                .sort_values(ascending=False))"
   ]
  },
  {
   "cell_type": "code",
   "execution_count": 7,
   "id": "aedbab6f",
   "metadata": {},
   "outputs": [],
   "source": [
    "# No need to encode if there is only one value\n",
    "small_num_ohc_cols = num_ohc_cols.loc[num_ohc_cols>1]"
   ]
  },
  {
   "cell_type": "code",
   "execution_count": 8,
   "id": "8cd5f0d4",
   "metadata": {},
   "outputs": [],
   "source": [
    "# Number of one-hot columns is one less than the number of categories\n",
    "small_num_ohc_cols -= 1"
   ]
  },
  {
   "cell_type": "code",
   "execution_count": 9,
   "id": "ec74c6b7",
   "metadata": {},
   "outputs": [
    {
     "data": {
      "text/plain": [
       "215"
      ]
     },
     "execution_count": 9,
     "metadata": {},
     "output_type": "execute_result"
    }
   ],
   "source": [
    "# This is 215 columns, assuming the original ones are dropped. \n",
    "# This is quite a few extra columns!\n",
    "small_num_ohc_cols.sum()"
   ]
  },
  {
   "cell_type": "markdown",
   "id": "685bdbda",
   "metadata": {},
   "source": [
    "### Question 3\n",
    "- Let's create a new data set where all of the above categorical features will be one-hot encoded. We can fit this data and see how it affects the results.\n",
    "\n",
    "- Used the dataframe .copy() method to create a completely separate copy of the dataframe for one-hot encoding\n",
    "- On this new dataframe, one-hot encode each of the appropriate columns and add it back to the dataframe. Be sure to drop the original column.\n",
    "- For the data that are not one-hot encoded, drop the columns that are string categoricals."
   ]
  },
  {
   "cell_type": "markdown",
   "id": "613e9e85",
   "metadata": {},
   "source": [
    "For the first step, numerically encoding the string categoricals, either Scikit-learn's **LabelEncoder** or **DictVectorizer** can be used. However, the former is probably easier since it doesn't require specifying a numerical value for each category, and we are going to one-hot encode all of the numerical values anyway. (Can you think of a time when DictVectorizer might be preferred?)"
   ]
  },
  {
   "cell_type": "code",
   "execution_count": 10,
   "id": "3a5508bc",
   "metadata": {},
   "outputs": [],
   "source": [
    "from sklearn.preprocessing import OneHotEncoder, LabelEncoder\n",
    "\n",
    "# Copy of the data\n",
    "data_ohc = data.copy()\n",
    "\n",
    "# The encoders\n",
    "le = LabelEncoder()\n",
    "ohc = OneHotEncoder()\n",
    "\n",
    "for col in num_ohc_cols.index:\n",
    "    \n",
    "    # Integer encode the string categories\n",
    "    dat = le.fit_transform(data_ohc[col]).astype(np.int)\n",
    "    \n",
    "    # Remove the original column from the dataframe\n",
    "    data_ohc = data_ohc.drop(col, axis=1)\n",
    "\n",
    "    # One hot encode the data--this returns a sparse array\n",
    "    new_dat = ohc.fit_transform(dat.reshape(-1,1))\n",
    "\n",
    "    # Create unique column names\n",
    "    n_cols = new_dat.shape[1]\n",
    "    col_names = ['_'.join([col, str(x)]) for x in range(n_cols)]\n",
    "\n",
    "    # Create the new dataframe\n",
    "    new_df = pd.DataFrame(new_dat.toarray(), \n",
    "                          index=data_ohc.index, \n",
    "                          columns=col_names)\n",
    "\n",
    "    # Append the new data to the dataframe\n",
    "    data_ohc = pd.concat([data_ohc, new_df], axis=1)"
   ]
  },
  {
   "cell_type": "code",
   "execution_count": 11,
   "id": "bd470c8e",
   "metadata": {},
   "outputs": [
    {
     "data": {
      "text/plain": [
       "215"
      ]
     },
     "execution_count": 11,
     "metadata": {},
     "output_type": "execute_result"
    }
   ],
   "source": [
    "# Column difference is as calculated above\n",
    "data_ohc.shape[1] - data.shape[1]"
   ]
  },
  {
   "cell_type": "code",
   "execution_count": 12,
   "id": "0e7e45c8",
   "metadata": {},
   "outputs": [
    {
     "name": "stdout",
     "output_type": "stream",
     "text": [
      "80\n",
      "37\n"
     ]
    }
   ],
   "source": [
    "print(data.shape[1])\n",
    "\n",
    "# Remove the string columns from the dataframe\n",
    "data = data.drop(num_ohc_cols.index, axis=1)\n",
    "\n",
    "print(data.shape[1])"
   ]
  },
  {
   "cell_type": "markdown",
   "id": "6657ee3a",
   "metadata": {},
   "source": [
    "### Question 4\n",
    "- Create train and test splits of both data sets. To ensure the data gets split the same way, use the same random_state in each of the two splits.\n",
    "- For each data set, fit a basic linear regression model on the training data.\n",
    "- Calculate the mean squared error on both the train and test sets for the respective models. Which model produces smaller error on the test data and why?"
   ]
  },
  {
   "cell_type": "code",
   "execution_count": 13,
   "id": "23cb3e2f",
   "metadata": {},
   "outputs": [],
   "source": [
    "from sklearn.model_selection import train_test_split\n",
    "\n",
    "y_col = 'SalePrice'\n",
    "\n",
    "# Split the data that is not one-hot encoded\n",
    "feature_cols = [x for x in data.columns if x != y_col]\n",
    "X_data = data[feature_cols]\n",
    "y_data = data[y_col]\n",
    "\n",
    "X_train, X_test, y_train, y_test = train_test_split(X_data, y_data, \n",
    "                                                    test_size=0.3, random_state=42)"
   ]
  },
  {
   "cell_type": "code",
   "execution_count": 14,
   "id": "eaf7bb61",
   "metadata": {},
   "outputs": [],
   "source": [
    "# Split the data that is one-hot encoded\n",
    "feature_cols = [x for x in data_ohc.columns if x != y_col]\n",
    "X_data_ohc = data_ohc[feature_cols]\n",
    "y_data_ohc = data_ohc[y_col]\n",
    "\n",
    "X_train_ohc, X_test_ohc, y_train_ohc, y_test_ohc = train_test_split(X_data_ohc, y_data_ohc, \n",
    "                                                    test_size=0.3, random_state=42)"
   ]
  },
  {
   "cell_type": "code",
   "execution_count": 15,
   "id": "33b194a7",
   "metadata": {},
   "outputs": [
    {
     "data": {
      "text/plain": [
       "True"
      ]
     },
     "execution_count": 15,
     "metadata": {},
     "output_type": "execute_result"
    }
   ],
   "source": [
    "# Compare the indices to ensure they are identical\n",
    "(X_train_ohc.index == X_train.index).all()"
   ]
  },
  {
   "cell_type": "code",
   "execution_count": 16,
   "id": "81bd5e0a",
   "metadata": {},
   "outputs": [
    {
     "data": {
      "text/html": [
       "<div>\n",
       "<style scoped>\n",
       "    .dataframe tbody tr th:only-of-type {\n",
       "        vertical-align: middle;\n",
       "    }\n",
       "\n",
       "    .dataframe tbody tr th {\n",
       "        vertical-align: top;\n",
       "    }\n",
       "\n",
       "    .dataframe thead th {\n",
       "        text-align: right;\n",
       "    }\n",
       "</style>\n",
       "<table border=\"1\" class=\"dataframe\">\n",
       "  <thead>\n",
       "    <tr style=\"text-align: right;\">\n",
       "      <th></th>\n",
       "      <th>not encoded</th>\n",
       "      <th>one-hot encoded</th>\n",
       "    </tr>\n",
       "  </thead>\n",
       "  <tbody>\n",
       "    <tr>\n",
       "      <th>train</th>\n",
       "      <td>1.131507e+09</td>\n",
       "      <td>3.177302e+08</td>\n",
       "    </tr>\n",
       "    <tr>\n",
       "      <th>test</th>\n",
       "      <td>1.372182e+09</td>\n",
       "      <td>1.295634e+20</td>\n",
       "    </tr>\n",
       "  </tbody>\n",
       "</table>\n",
       "</div>"
      ],
      "text/plain": [
       "        not encoded  one-hot encoded\n",
       "train  1.131507e+09     3.177302e+08\n",
       "test   1.372182e+09     1.295634e+20"
      ]
     },
     "execution_count": 16,
     "metadata": {},
     "output_type": "execute_result"
    }
   ],
   "source": [
    "from sklearn.linear_model import LinearRegression\n",
    "from sklearn.metrics import mean_squared_error as mse\n",
    "\n",
    "LR = LinearRegression()\n",
    "\n",
    "# Storage for error values\n",
    "error_df = list()\n",
    "\n",
    "# Data that have not been one-hot encoded\n",
    "LR = LR.fit(X_train, y_train)\n",
    "y_train_pred = LR.predict(X_train)\n",
    "y_test_pred = LR.predict(X_test)\n",
    "\n",
    "error_df.append(pd.Series({\"train\": mse(y_train, y_train_pred),\n",
    "                           \"test\": mse(y_test, y_test_pred)},\n",
    "                          name=\"not encoded\"))\n",
    "\n",
    "# Data that have been one-hot encoded\n",
    "LR = LR.fit(X_train_ohc, y_train_ohc)\n",
    "y_train_ohc_pred = LR.predict(X_train_ohc)\n",
    "y_test_ohc_pred = LR.predict(X_test_ohc)\n",
    "\n",
    "error_df.append(pd.Series({\"train\": mse(y_train_ohc, y_train_ohc_pred),\n",
    "                           \"test\": mse(y_test_ohc, y_test_ohc_pred)},\n",
    "                          name=\"one-hot encoded\"))\n",
    "\n",
    "# Assemble the results\n",
    "error_df = pd.concat(error_df, axis=1)\n",
    "error_df"
   ]
  },
  {
   "cell_type": "markdown",
   "id": "1749e378",
   "metadata": {},
   "source": [
    "- Note that the error values on the one-hot encoded data are very different for the train and test data. \n",
    "    - In particular, the errors on the test data are much higher. \n",
    "- Based on the lecture, this is because the **one-hot encoded model is overfitting the data.** \n",
    "    - We will learn how to deal with issues like this in the next lesson."
   ]
  },
  {
   "cell_type": "markdown",
   "id": "79e02c87",
   "metadata": {},
   "source": [
    "### Question 5\n",
    "For each of the data sets (one-hot encoded and not encoded):\n",
    "\n",
    "- Scale the all the non-hot encoded values using one of the following: StandardScaler, MinMaxScaler, MaxAbsScaler.\n",
    "- Compare the error calculated on the test sets.\n",
    "\n",
    "Be sure to calculate the skew (to decide if a transformation should be done) and fit the scaler on ONLY the training data, but then apply it to both the train and test data identically."
   ]
  },
  {
   "cell_type": "code",
   "execution_count": 17,
   "id": "4ff80ae4",
   "metadata": {},
   "outputs": [],
   "source": [
    "# Mute the setting wtih a copy warnings\n",
    "pd.options.mode.chained_assignment = None"
   ]
  },
  {
   "cell_type": "code",
   "execution_count": 20,
   "id": "454bb863",
   "metadata": {},
   "outputs": [
    {
     "name": "stdout",
     "output_type": "stream",
     "text": [
      "not_encoded - standardscaling        1.372182e+09\n",
      "not_encoded - minmaxscaling          1.371594e+09\n",
      "not_encoded - maxabsscaling          1.371739e+09\n",
      "one_hot_encoded - standardscaling    8.065328e+09\n",
      "one_hot_encoded - minmaxscaling      8.065328e+09\n",
      "one_hot_encoded - maxabsscaling      8.065328e+09\n",
      "--------------------------------------------------------------------------------\n",
      "not_encoded - standardscaling 1372182358.9345007\n",
      "not_encoded - minmaxscaling 1371594126.4708865\n",
      "not_encoded - maxabsscaling 1371739208.4201858\n",
      "one_hot_encoded - standardscaling 8065327607.247064\n",
      "one_hot_encoded - minmaxscaling 8065327607.32489\n",
      "one_hot_encoded - maxabsscaling 8065327607.246397\n"
     ]
    }
   ],
   "source": [
    "from sklearn.preprocessing import StandardScaler, MinMaxScaler, MaxAbsScaler\n",
    "\n",
    "scalers = {\"standard\": StandardScaler(),\n",
    "           \"minmax\": MinMaxScaler(),\n",
    "           \"maxabs\": MaxAbsScaler()}\n",
    "\n",
    "training_test_sets = {\n",
    "    \"not_encoded\": (X_train, y_train, X_test, y_test),\n",
    "    \"one_hot_encoded\": (X_train_ohc, y_train_ohc, X_test_ohc, y_test_ohc)\n",
    "}\n",
    "\n",
    "# Get the list of float columns, and the float data\n",
    "# so that we don't scale something we already scaled. \n",
    "# We're supposed to scale the original data each time\n",
    "mask = X_train.dtypes == np.float\n",
    "float_columns = X_train.columns[mask]\n",
    "\n",
    "# initialize model\n",
    "LR = LinearRegression()\n",
    "\n",
    "# iterate over all possible combinations and get the errors\n",
    "errors = {}\n",
    "for encoding_label, (_X_train, _y_train, _X_test, _y_test) in training_test_sets.items():\n",
    "    for scaler_label, scaler in scalers.items():\n",
    "        trainingset = _X_train.copy()  # copy because we dont want to scale this more than once.\n",
    "        testset = _X_test.copy()\n",
    "        trainingset[float_columns] = scaler.fit_transform(trainingset[float_columns])\n",
    "        testset[float_columns] = scaler.transform(testset[float_columns])\n",
    "        LR.fit(trainingset, _y_train)\n",
    "        predictions = LR.predict(testset)\n",
    "        key = encoding_label + ' - ' + scaler_label + 'scaling'\n",
    "        errors[key] = mse(_y_test, predictions)\n",
    "\n",
    "errors = pd.Series(errors)\n",
    "print(errors.to_string())\n",
    "print('-' * 80)\n",
    "for key, error_val in errors.items():\n",
    "    print(key, error_val)"
   ]
  },
  {
   "cell_type": "markdown",
   "id": "3f7bf236",
   "metadata": {},
   "source": [
    "### Question 6\n",
    "Plot predictions vs actual for one of the models."
   ]
  },
  {
   "cell_type": "code",
   "execution_count": 21,
   "id": "161226e7",
   "metadata": {},
   "outputs": [
    {
     "data": {
      "image/png": "[encoded data removed]",
      "text/plain": [
       "<Figure size 432x288 with 1 Axes>"
      ]
     },
     "metadata": {},
     "output_type": "display_data"
    }
   ],
   "source": [
    "import matplotlib.pyplot as plt\n",
    "import seaborn as sns\n",
    "%matplotlib inline\n",
    "\n",
    "sns.set_context('talk')\n",
    "sns.set_style('ticks')\n",
    "sns.set_palette('dark')\n",
    "\n",
    "ax = plt.axes()\n",
    "# we are going to use y_test, y_test_pred\n",
    "ax.scatter(y_test, y_test_pred, alpha=.5)\n",
    "\n",
    "ax.set(xlabel='Ground truth', \n",
    "       ylabel='Predictions',\n",
    "       title='Ames, Iowa House Price Predictions vs Actual Prices, using Linear Regression');"
   ]
  },
  {
   "cell_type": "code",
   "execution_count": null,
   "id": "0c924eae",
   "metadata": {},
   "outputs": [],
   "source": []
  }
 ],
 "metadata": {
  "kernelspec": {
   "display_name": "Python 3",
   "language": "python",
   "name": "python3"
  },
  "language_info": {
   "codemirror_mode": {
    "name": "ipython",
    "version": 3
   },
   "file_extension": ".py",
   "mimetype": "text/x-python",
   "name": "python",
   "nbconvert_exporter": "python",
   "pygments_lexer": "ipython3",
   "version": "3.8.8"
  }
 },
 "nbformat": 4,
 "nbformat_minor": 5
}
