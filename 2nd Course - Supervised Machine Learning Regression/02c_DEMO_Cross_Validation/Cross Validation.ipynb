{
 "cells": [
  {
   "cell_type": "markdown",
   "id": "06bde5af",
   "metadata": {},
   "source": [
    "# Machine Learning Foundation\n",
    "\n",
    "## Section 2, Part c: Cross Validation"
   ]
  },
  {
   "cell_type": "markdown",
   "id": "9887b2c5",
   "metadata": {},
   "source": [
    "## Learning objectives\n",
    "\n",
    "By the end of this lesson, you will be able to:\n",
    "\n",
    "* Chain multiple data processing steps together using `Pipeline`\n",
    "* Use the `KFolds` object to split data into multiple folds.\n",
    "* Perform cross validation using SciKit Learn with `cross_val_predict` and `GridSearchCV`"
   ]
  },
  {
   "cell_type": "code",
   "execution_count": 18,
   "id": "3a9fc1bf",
   "metadata": {},
   "outputs": [],
   "source": [
    "import numpy as np\n",
    "import pickle\n",
    "import pandas as pd\n",
    "import matplotlib.pyplot as plt\n",
    "\n",
    "from sklearn.preprocessing import StandardScaler, PolynomialFeatures\n",
    "from sklearn.model_selection import KFold, cross_val_predict\n",
    "from sklearn.linear_model import LinearRegression, Lasso, Ridge\n",
    "from sklearn.metrics import r2_score, mean_squared_error\n",
    "from sklearn.pipeline import Pipeline"
   ]
  },
  {
   "cell_type": "code",
   "execution_count": 2,
   "id": "17cdfa05",
   "metadata": {},
   "outputs": [],
   "source": [
    "# Note that we are loading a slightly different (\"cleaned\") pickle file\n",
    "boston = pickle.load(open(\"boston_housing_clean.pickle\", \"rb\"))"
   ]
  },
  {
   "cell_type": "code",
   "execution_count": 3,
   "id": "926af08c",
   "metadata": {},
   "outputs": [
    {
     "data": {
      "text/plain": [
       "dict_keys(['dataframe', 'description'])"
      ]
     },
     "execution_count": 3,
     "metadata": {},
     "output_type": "execute_result"
    }
   ],
   "source": [
    "boston.keys()"
   ]
  },
  {
   "cell_type": "code",
   "execution_count": 4,
   "id": "2422bd01",
   "metadata": {},
   "outputs": [],
   "source": [
    "boston_data = boston[\"dataframe\"]\n",
    "boston_description = boston[\"description\"]"
   ]
  },
  {
   "cell_type": "code",
   "execution_count": 5,
   "id": "099501b1",
   "metadata": {},
   "outputs": [
    {
     "data": {
      "text/html": [
       "<div>\n",
       "<style scoped>\n",
       "    .dataframe tbody tr th:only-of-type {\n",
       "        vertical-align: middle;\n",
       "    }\n",
       "\n",
       "    .dataframe tbody tr th {\n",
       "        vertical-align: top;\n",
       "    }\n",
       "\n",
       "    .dataframe thead th {\n",
       "        text-align: right;\n",
       "    }\n",
       "</style>\n",
       "<table border=\"1\" class=\"dataframe\">\n",
       "  <thead>\n",
       "    <tr style=\"text-align: right;\">\n",
       "      <th></th>\n",
       "      <th>CRIM</th>\n",
       "      <th>ZN</th>\n",
       "      <th>INDUS</th>\n",
       "      <th>CHAS</th>\n",
       "      <th>NOX</th>\n",
       "      <th>RM</th>\n",
       "      <th>AGE</th>\n",
       "      <th>DIS</th>\n",
       "      <th>RAD</th>\n",
       "      <th>TAX</th>\n",
       "      <th>PTRATIO</th>\n",
       "      <th>B</th>\n",
       "      <th>LSTAT</th>\n",
       "      <th>MEDV</th>\n",
       "    </tr>\n",
       "  </thead>\n",
       "  <tbody>\n",
       "    <tr>\n",
       "      <th>0</th>\n",
       "      <td>0.00632</td>\n",
       "      <td>18.0</td>\n",
       "      <td>2.31</td>\n",
       "      <td>0.0</td>\n",
       "      <td>0.538</td>\n",
       "      <td>6.575</td>\n",
       "      <td>65.2</td>\n",
       "      <td>4.0900</td>\n",
       "      <td>1.0</td>\n",
       "      <td>296.0</td>\n",
       "      <td>15.3</td>\n",
       "      <td>396.90</td>\n",
       "      <td>4.98</td>\n",
       "      <td>24.0</td>\n",
       "    </tr>\n",
       "    <tr>\n",
       "      <th>1</th>\n",
       "      <td>0.02731</td>\n",
       "      <td>0.0</td>\n",
       "      <td>7.07</td>\n",
       "      <td>0.0</td>\n",
       "      <td>0.469</td>\n",
       "      <td>6.421</td>\n",
       "      <td>78.9</td>\n",
       "      <td>4.9671</td>\n",
       "      <td>2.0</td>\n",
       "      <td>242.0</td>\n",
       "      <td>17.8</td>\n",
       "      <td>396.90</td>\n",
       "      <td>9.14</td>\n",
       "      <td>21.6</td>\n",
       "    </tr>\n",
       "    <tr>\n",
       "      <th>2</th>\n",
       "      <td>0.02729</td>\n",
       "      <td>0.0</td>\n",
       "      <td>7.07</td>\n",
       "      <td>0.0</td>\n",
       "      <td>0.469</td>\n",
       "      <td>7.185</td>\n",
       "      <td>61.1</td>\n",
       "      <td>4.9671</td>\n",
       "      <td>2.0</td>\n",
       "      <td>242.0</td>\n",
       "      <td>17.8</td>\n",
       "      <td>392.83</td>\n",
       "      <td>4.03</td>\n",
       "      <td>34.7</td>\n",
       "    </tr>\n",
       "    <tr>\n",
       "      <th>3</th>\n",
       "      <td>0.03237</td>\n",
       "      <td>0.0</td>\n",
       "      <td>2.18</td>\n",
       "      <td>0.0</td>\n",
       "      <td>0.458</td>\n",
       "      <td>6.998</td>\n",
       "      <td>45.8</td>\n",
       "      <td>6.0622</td>\n",
       "      <td>3.0</td>\n",
       "      <td>222.0</td>\n",
       "      <td>18.7</td>\n",
       "      <td>394.63</td>\n",
       "      <td>2.94</td>\n",
       "      <td>33.4</td>\n",
       "    </tr>\n",
       "    <tr>\n",
       "      <th>4</th>\n",
       "      <td>0.06905</td>\n",
       "      <td>0.0</td>\n",
       "      <td>2.18</td>\n",
       "      <td>0.0</td>\n",
       "      <td>0.458</td>\n",
       "      <td>7.147</td>\n",
       "      <td>54.2</td>\n",
       "      <td>6.0622</td>\n",
       "      <td>3.0</td>\n",
       "      <td>222.0</td>\n",
       "      <td>18.7</td>\n",
       "      <td>396.90</td>\n",
       "      <td>5.33</td>\n",
       "      <td>36.2</td>\n",
       "    </tr>\n",
       "  </tbody>\n",
       "</table>\n",
       "</div>"
      ],
      "text/plain": [
       "      CRIM    ZN  INDUS  CHAS    NOX     RM   AGE     DIS  RAD    TAX  \\\n",
       "0  0.00632  18.0   2.31   0.0  0.538  6.575  65.2  4.0900  1.0  296.0   \n",
       "1  0.02731   0.0   7.07   0.0  0.469  6.421  78.9  4.9671  2.0  242.0   \n",
       "2  0.02729   0.0   7.07   0.0  0.469  7.185  61.1  4.9671  2.0  242.0   \n",
       "3  0.03237   0.0   2.18   0.0  0.458  6.998  45.8  6.0622  3.0  222.0   \n",
       "4  0.06905   0.0   2.18   0.0  0.458  7.147  54.2  6.0622  3.0  222.0   \n",
       "\n",
       "   PTRATIO       B  LSTAT  MEDV  \n",
       "0     15.3  396.90   4.98  24.0  \n",
       "1     17.8  396.90   9.14  21.6  \n",
       "2     17.8  392.83   4.03  34.7  \n",
       "3     18.7  394.63   2.94  33.4  \n",
       "4     18.7  396.90   5.33  36.2  "
      ]
     },
     "execution_count": 5,
     "metadata": {},
     "output_type": "execute_result"
    }
   ],
   "source": [
    "boston_data.head()"
   ]
  },
  {
   "cell_type": "code",
   "execution_count": 15,
   "id": "67eead92",
   "metadata": {},
   "outputs": [],
   "source": [
    "X = boston_data.drop('MEDV', axis=1)\n",
    "y = boston_data.MEDV"
   ]
  },
  {
   "cell_type": "code",
   "execution_count": 16,
   "id": "14606b85",
   "metadata": {},
   "outputs": [],
   "source": [
    "kf = KFold(shuffle=True, random_state=1, n_splits=3)"
   ]
  },
  {
   "cell_type": "code",
   "execution_count": 17,
   "id": "e2a802af",
   "metadata": {},
   "outputs": [
    {
     "name": "stdout",
     "output_type": "stream",
     "text": [
      "Train index: [ 0  1  2  3  7  8  9 10 12 14] 337\n",
      "Test index: [ 4  5  6 11 13 17 18 23 29 31] 169\n",
      " \n",
      "Train index: [ 1  2  3  4  5  6  7 10 11 13] 337\n",
      "Test index: [ 0  8  9 12 14 16 19 21 24 27] 169\n",
      " \n",
      "Train index: [ 0  4  5  6  8  9 11 12 13 14] 338\n",
      "Test index: [ 1  2  3  7 10 15 20 22 25 26] 168\n",
      " \n"
     ]
    }
   ],
   "source": [
    "for train_index, test_index in kf.split(X):\n",
    "    print(\"Train index:\", train_index[:10], len(train_index))\n",
    "    print(\"Test index:\", test_index[:10], len(test_index))\n",
    "    print(\" \")"
   ]
  },
  {
   "cell_type": "code",
   "execution_count": 20,
   "id": "f9e975cd",
   "metadata": {},
   "outputs": [
    {
     "data": {
      "text/plain": [
       "[0.7666824454217471, 0.6989511253303261, 0.6913607321883043]"
      ]
     },
     "execution_count": 20,
     "metadata": {},
     "output_type": "execute_result"
    }
   ],
   "source": [
    "scores = []\n",
    "lr = LinearRegression()\n",
    "\n",
    "for train_index, test_index in kf.split(X):\n",
    "    X_train, X_test, y_train, y_test = (X.iloc[train_index, :],\n",
    "                                        X.iloc[test_index, :],\n",
    "                                        y[train_index],\n",
    "                                        y[test_index])\n",
    "    lr.fit(X_train, y_train)\n",
    "    y_pred = lr.predict(X_test)\n",
    "    score = r2_score(y_test, y_pred)\n",
    "    scores.append(score)\n",
    "    \n",
    "scores"
   ]
  },
  {
   "cell_type": "markdown",
   "id": "5c234fce",
   "metadata": {},
   "source": [
    "Now suppose we want to do the same, but appropriately **scaling our data as we go through the folds.**\n",
    "\n",
    "What would the steps be now?"
   ]
  },
  {
   "cell_type": "code",
   "execution_count": 21,
   "id": "4aa254a9",
   "metadata": {},
   "outputs": [],
   "source": [
    "scores = []\n",
    "\n",
    "lr = LinearRegression()\n",
    "s = StandardScaler()\n",
    "\n",
    "for train_index, test_index in kf.split(X):\n",
    "    X_train, X_test, y_train, y_test = (X.iloc[train_index, :], \n",
    "                                        X.iloc[test_index, :], \n",
    "                                        y[train_index], \n",
    "                                        y[test_index])\n",
    "    \n",
    "    X_train_s = s.fit_transform(X_train)\n",
    "    \n",
    "    lr.fit(X_train_s, y_train)\n",
    "    \n",
    "    X_test_s = s.transform(X_test)\n",
    "    \n",
    "    y_pred = lr.predict(X_test_s)\n",
    "\n",
    "    score = r2_score(y_test, y_pred)\n",
    "    \n",
    "    scores.append(score)"
   ]
  },
  {
   "cell_type": "code",
   "execution_count": 22,
   "id": "96551ab5",
   "metadata": {},
   "outputs": [
    {
     "data": {
      "text/plain": [
       "[0.7666824454217431, 0.6989511253303234, 0.6913607321883051]"
      ]
     },
     "execution_count": 22,
     "metadata": {},
     "output_type": "execute_result"
    }
   ],
   "source": [
    "scores"
   ]
  },
  {
   "cell_type": "markdown",
   "id": "9168b107",
   "metadata": {},
   "source": [
    "(same scores, because for vanilla linear regression with no regularization, scaling actually doesn't matter for performance)"
   ]
  },
  {
   "cell_type": "markdown",
   "id": "5e1f21b5",
   "metadata": {},
   "source": [
    "### `Pipeline` and `cross_val_predict`\n",
    "\n",
    "`Pipeline` lets you chain together multiple operators on your data that both have a `fit` method."
   ]
  },
  {
   "cell_type": "code",
   "execution_count": 23,
   "id": "2c1dcbc5",
   "metadata": {},
   "outputs": [],
   "source": [
    "s = StandardScaler()\n",
    "lr = LinearRegression()"
   ]
  },
  {
   "cell_type": "markdown",
   "id": "84043be8",
   "metadata": {},
   "source": [
    "### Combine multiple processing steps into a `Pipeline`\n",
    "\n",
    "A pipeline contains a series of steps, where a step is (\"name of step\", actual_model). The \"name of step\" string is only used to help you identify which step you are on, and to allow you to specify parameters at that step. "
   ]
  },
  {
   "cell_type": "code",
   "execution_count": 24,
   "id": "02e40054",
   "metadata": {},
   "outputs": [],
   "source": [
    "estimator = Pipeline([(\"scaler\", s),\n",
    "                      (\"regression\", lr)])"
   ]
  },
  {
   "cell_type": "markdown",
   "id": "ab2405ad",
   "metadata": {},
   "source": [
    "### `cross_val_predict`\n",
    "\n",
    "[`cross_val_predict`](http://scikit-learn.org/stable/modules/generated/sklearn.model_selection.cross_val_predict.html) is a function that does K-fold cross validation for us, appropriately fitting and transforming at every step of the way."
   ]
  },
  {
   "cell_type": "code",
   "execution_count": 25,
   "id": "1d873fe5",
   "metadata": {},
   "outputs": [
    {
     "data": {
      "text/plain": [
       "KFold(n_splits=3, random_state=1, shuffle=True)"
      ]
     },
     "execution_count": 25,
     "metadata": {},
     "output_type": "execute_result"
    }
   ],
   "source": [
    "kf"
   ]
  },
  {
   "cell_type": "code",
   "execution_count": 26,
   "id": "3ab6bce7",
   "metadata": {},
   "outputs": [],
   "source": [
    "predictions = cross_val_predict(estimator, X, y, cv=kf)"
   ]
  },
  {
   "cell_type": "code",
   "execution_count": 27,
   "id": "82270004",
   "metadata": {},
   "outputs": [
    {
     "data": {
      "text/plain": [
       "0.7204734595092921"
      ]
     },
     "execution_count": 27,
     "metadata": {},
     "output_type": "execute_result"
    }
   ],
   "source": [
    "r2_score(y, predictions)"
   ]
  },
  {
   "cell_type": "code",
   "execution_count": 28,
   "id": "6ac90646",
   "metadata": {},
   "outputs": [
    {
     "data": {
      "text/plain": [
       "0.7189981009801238"
      ]
     },
     "execution_count": 28,
     "metadata": {},
     "output_type": "execute_result"
    }
   ],
   "source": [
    "np.mean(scores) # almost identical!"
   ]
  },
  {
   "cell_type": "markdown",
   "id": "4b8cd358",
   "metadata": {},
   "source": [
    "Note that cross_val_predict doesn't use the same model for all steps; the predictions for each row are made when that row is in the validation set. We really have the collected results of 3 (i.e. kf.num_splits) different models.\n",
    "\n",
    "When we are done, estimator is still not fitted. If we want to predict on new data, we still have to train our estimator."
   ]
  },
  {
   "cell_type": "markdown",
   "id": "b8b27847",
   "metadata": {},
   "source": [
    "## Hyperparameter tuning\n",
    "\n",
    "### Definition\n",
    "\n",
    "**Hyperparameter tuning** involves using cross validation (or train-test split) to determine which hyperparameters are most likely to generate a model that _generalizes_ well outside of your sample.\n",
    "\n",
    "### Mechanics\n",
    "\n",
    "We can generate an exponentially spaces range of values using the numpy [`geomspace`](https://docs.scipy.org/doc/numpy/reference/generated/numpy.geomspace.html#numpy.geomspace) function.\n",
    "\n",
    "```python\n",
    "np.geomspace(1, 1000, num=4)\n",
    "```\n",
    "\n",
    "produces:\n",
    "\n",
    "```\n",
    "array([    1.,    10.,   100.,  1000.])\n",
    "```\n",
    "\n",
    "Use this function to generate a list of length 10 called `alphas` for hyperparameter tuning:"
   ]
  },
  {
   "cell_type": "code",
   "execution_count": 29,
   "id": "e6af11ea",
   "metadata": {},
   "outputs": [
    {
     "data": {
      "text/plain": [
       "array([1.e-09, 1.e-08, 1.e-07, 1.e-06, 1.e-05, 1.e-04, 1.e-03, 1.e-02,\n",
       "       1.e-01, 1.e+00])"
      ]
     },
     "execution_count": 29,
     "metadata": {},
     "output_type": "execute_result"
    }
   ],
   "source": [
    "alphas = np.geomspace(1e-9, 1e0, num=10)\n",
    "alphas"
   ]
  },
  {
   "cell_type": "markdown",
   "id": "0110858a",
   "metadata": {},
   "source": [
    "The code below tunes the `alpha` hyperparameter for Lasso regression."
   ]
  },
  {
   "cell_type": "code",
   "execution_count": 30,
   "id": "bc44003b",
   "metadata": {},
   "outputs": [],
   "source": [
    "scores = []\n",
    "coefs = []\n",
    "for alpha in alphas:\n",
    "    las = Lasso(alpha=alpha, max_iter=100000)\n",
    "    \n",
    "    estimator = Pipeline([\n",
    "        (\"scaler\", s),\n",
    "        (\"lasso_regression\", las)\n",
    "    ])\n",
    "    \n",
    "    predictions = cross_val_predict(estimator, X, y, cv=kf)\n",
    "    \n",
    "    score = r2_score(y, predictions)\n",
    "    scores.append(score)"
   ]
  },
  {
   "cell_type": "code",
   "execution_count": 31,
   "id": "2b5b02b8",
   "metadata": {},
   "outputs": [
    {
     "data": {
      "text/plain": [
       "[(1e-09, 0.7204734595314455),\n",
       " (1e-08, 0.720473459729344),\n",
       " (1e-07, 0.7204734617288312),\n",
       " (1e-06, 0.7204734814653849),\n",
       " (1e-05, 0.7204736821229949),\n",
       " (0.0001, 0.7204756388061737),\n",
       " (0.001, 0.72049468141845),\n",
       " (0.01, 0.7206822956922044),\n",
       " (0.1, 0.7156224386864255),\n",
       " (1.0, 0.6549173296484385)]"
      ]
     },
     "execution_count": 31,
     "metadata": {},
     "output_type": "execute_result"
    }
   ],
   "source": [
    "list(zip(alphas,scores))"
   ]
  },
  {
   "cell_type": "code",
   "execution_count": 32,
   "id": "e2d66151",
   "metadata": {},
   "outputs": [
    {
     "data": {
      "text/plain": [
       "array([-1.07170372e-01,  4.63952623e-02,  2.08588308e-02,  2.68854318e+00,\n",
       "       -1.77954207e+01,  3.80475296e+00,  7.50802707e-04, -1.47575348e+00,\n",
       "        3.05654279e-01, -1.23293755e-02, -9.53459908e-01,  9.39253013e-03,\n",
       "       -5.25467196e-01])"
      ]
     },
     "execution_count": 32,
     "metadata": {},
     "output_type": "execute_result"
    }
   ],
   "source": [
    "Lasso(alpha=1e-6).fit(X, y).coef_"
   ]
  },
  {
   "cell_type": "code",
   "execution_count": 33,
   "id": "1ded8351",
   "metadata": {},
   "outputs": [
    {
     "data": {
      "text/plain": [
       "array([-0.06342255,  0.04916867, -0.        ,  0.        , -0.        ,\n",
       "        0.94678567,  0.02092737, -0.66900864,  0.26417501, -0.01520915,\n",
       "       -0.72319901,  0.00829117, -0.76143296])"
      ]
     },
     "execution_count": 33,
     "metadata": {},
     "output_type": "execute_result"
    }
   ],
   "source": [
    "Lasso(alpha=1.0).fit(X, y).coef_"
   ]
  },
  {
   "cell_type": "code",
   "execution_count": 34,
   "id": "229123c0",
   "metadata": {},
   "outputs": [
    {
     "data": {
      "image/png": "[encoded data removed]",
      "text/plain": [
       "<Figure size 720x432 with 1 Axes>"
      ]
     },
     "metadata": {
      "needs_background": "light"
     },
     "output_type": "display_data"
    }
   ],
   "source": [
    "plt.figure(figsize=(10,6))\n",
    "plt.semilogx(alphas, scores, '-o')\n",
    "plt.xlabel('$\\\\alpha$')\n",
    "plt.ylabel('$R^2$');"
   ]
  },
  {
   "cell_type": "markdown",
   "id": "a28f5dd2",
   "metadata": {},
   "source": [
    "### Exercise\n",
    "\n",
    "Add `PolynomialFeatures` to this `Pipeline`, and re-run the cross validation with the `PolynomialFeatures` added.\n",
    "\n",
    "**Hint #1:** pipelines process input from first to last. Think about the order that it would make sense to add Polynomial Features to the data in sequence and add them in the appropriate place in the pipeline.\n",
    "\n",
    "**Hint #2:** you should see a significant increase in cross validation accuracy from doing this"
   ]
  },
  {
   "cell_type": "code",
   "execution_count": 35,
   "id": "95200f62",
   "metadata": {},
   "outputs": [],
   "source": [
    "pf = PolynomialFeatures(degree=3)\n",
    "\n",
    "scores = []\n",
    "alphas = np.geomspace(0.06, 6.0, 20)\n",
    "for alpha in alphas:\n",
    "    las = Lasso(alpha=alpha, max_iter=100000)\n",
    "    \n",
    "    estimator = Pipeline([\n",
    "        (\"scaler\", s),\n",
    "        (\"make_higher_degree\", pf),\n",
    "        (\"lasso_regression\", las)])\n",
    "    \n",
    "    predictions = cross_val_predict(estimator, X, y, cv=kf)\n",
    "    \n",
    "    score = r2_score(y, predictions)\n",
    "    scores.append(score)"
   ]
  },
  {
   "cell_type": "markdown",
   "id": "50f54a8a",
   "metadata": {},
   "source": [
    "If you store the results in a list called `scores`, the following will work:"
   ]
  },
  {
   "cell_type": "code",
   "execution_count": 36,
   "id": "772e14ff",
   "metadata": {},
   "outputs": [
    {
     "data": {
      "image/png": "[encoded data removed]",
      "text/plain": [
       "<Figure size 432x288 with 1 Axes>"
      ]
     },
     "metadata": {
      "needs_background": "light"
     },
     "output_type": "display_data"
    }
   ],
   "source": [
    "plt.semilogx(alphas, scores);"
   ]
  },
  {
   "cell_type": "code",
   "execution_count": 37,
   "id": "f9364b6f",
   "metadata": {},
   "outputs": [
    {
     "data": {
      "text/plain": [
       "0.9134777735196521"
      ]
     },
     "execution_count": 37,
     "metadata": {},
     "output_type": "execute_result"
    }
   ],
   "source": [
    "# Once we have found the hyperparameter (alpha~1e-2=0.01)\n",
    "# make the model and train it on ALL the data\n",
    "# Then release it into the wild .....\n",
    "best_estimator = Pipeline([\n",
    "    (\"scaler\", s),\n",
    "    (\"make_higher_degree\", PolynomialFeatures(degree=2)),\n",
    "    (\"lasso_regression\", Lasso(alpha=0.03))\n",
    "])\n",
    "\n",
    "best_estimator.fit(X, y)\n",
    "best_estimator.score(X, y)"
   ]
  },
  {
   "cell_type": "code",
   "execution_count": 38,
   "id": "dbff7453",
   "metadata": {},
   "outputs": [
    {
     "data": {
      "text/plain": [
       "array([ 0.00000000e+00, -0.00000000e+00, -0.00000000e+00, -0.00000000e+00,\n",
       "        0.00000000e+00, -1.00309168e+00,  3.32679107e+00, -1.01840878e+00,\n",
       "       -2.56161421e+00,  1.12778302e+00, -1.72266155e+00, -5.37088506e-01,\n",
       "        4.39555878e-01, -3.39542586e+00,  7.22387712e-02,  0.00000000e+00,\n",
       "        0.00000000e+00,  3.53653554e+00, -0.00000000e+00,  3.72285440e-01,\n",
       "        0.00000000e+00,  0.00000000e+00, -5.49528703e-01, -0.00000000e+00,\n",
       "       -0.00000000e+00, -4.05522485e-02,  2.25864611e-01,  1.78508858e-01,\n",
       "        0.00000000e+00,  0.00000000e+00,  0.00000000e+00,  6.50874606e-02,\n",
       "       -0.00000000e+00, -2.07295802e-01, -0.00000000e+00,  3.71781995e-01,\n",
       "        0.00000000e+00, -0.00000000e+00, -5.89531100e-02,  3.47180625e-01,\n",
       "        0.00000000e+00,  9.23666274e-01,  3.48873365e-01,  7.29463442e-02,\n",
       "        0.00000000e+00,  0.00000000e+00,  7.68485586e-02, -7.21083596e-01,\n",
       "        0.00000000e+00, -5.98542558e-01,  4.18420677e-01, -7.98165728e-01,\n",
       "       -7.25062683e-01,  2.34818861e-01, -0.00000000e+00, -0.00000000e+00,\n",
       "        0.00000000e+00, -1.68164447e-02,  0.00000000e+00, -4.04477826e-01,\n",
       "       -4.22989874e-01, -4.06983988e-01, -3.75443720e-01,  4.17684564e-01,\n",
       "       -8.91841193e-01,  0.00000000e+00, -2.69309481e-01,  0.00000000e+00,\n",
       "        1.02286785e-01,  2.02570379e-01, -6.88345376e-01, -0.00000000e+00,\n",
       "       -1.08598703e+00, -3.98751731e-01, -9.37684760e-01, -1.17343147e-01,\n",
       "       -7.37427594e-01,  0.00000000e+00,  0.00000000e+00,  1.36340670e+00,\n",
       "       -0.00000000e+00, -2.94691228e-03, -8.98125013e-01, -8.68198373e-01,\n",
       "        8.03396788e-01, -1.91683803e-01, -1.14706070e-01,  0.00000000e+00,\n",
       "       -0.00000000e+00,  5.83161589e-01, -0.00000000e+00,  5.81365491e-02,\n",
       "        0.00000000e+00, -2.32896159e-01, -1.12440837e+00,  0.00000000e+00,\n",
       "        1.96286997e+00, -0.00000000e+00, -1.00915801e+00, -7.04656486e-02,\n",
       "       -1.06456357e-02, -4.78389591e-02, -3.97645601e-01, -3.84121840e-01,\n",
       "        9.97402419e-01])"
      ]
     },
     "execution_count": 38,
     "metadata": {},
     "output_type": "execute_result"
    }
   ],
   "source": [
    "best_estimator.named_steps[\"lasso_regression\"].coef_"
   ]
  },
  {
   "cell_type": "markdown",
   "id": "f61b9db6",
   "metadata": {},
   "source": [
    "### Exercise\n",
    "\n",
    "Do the same, but with `Ridge` regression \n",
    "\n",
    "Which model, `Ridge` or `Lasso`, performs best with its optimal hyperparameters on the Boston dataset?"
   ]
  },
  {
   "cell_type": "code",
   "execution_count": 40,
   "id": "66c29f4b",
   "metadata": {},
   "outputs": [
    {
     "data": {
      "text/plain": [
       "[<matplotlib.lines.Line2D at 0x210188a52b0>]"
      ]
     },
     "execution_count": 40,
     "metadata": {},
     "output_type": "execute_result"
    },
    {
     "data": {
      "image/png": "[encoded data removed]",
      "text/plain": [
       "<Figure size 432x288 with 1 Axes>"
      ]
     },
     "metadata": {
      "needs_background": "light"
     },
     "output_type": "display_data"
    }
   ],
   "source": [
    "pf = PolynomialFeatures(degree=2)\n",
    "alphas = np.geomspace(4, 20, 20)\n",
    "scores = []\n",
    "for alpha in alphas:\n",
    "    ridge = Ridge(alpha=alpha, max_iter=100000)\n",
    "    \n",
    "    estimator = Pipeline([\n",
    "        (\"scaler\", s),\n",
    "        (\"polynomial_features\", pf),\n",
    "        (\"ridge_regression\", ridge)\n",
    "    ])\n",
    "    \n",
    "    predictions = cross_val_predict(estimator, X, y, cv=kf)\n",
    "    score = r2_score(y, predictions)\n",
    "    scores.append(score)\n",
    "    \n",
    "plt.plot(alphas, scores)"
   ]
  },
  {
   "cell_type": "markdown",
   "id": "c32cbe93",
   "metadata": {},
   "source": [
    "**Conclusion:** Both Lasso and Ridge with proper hyperparameter tuning give better results than plain ol' Linear Regression!"
   ]
  },
  {
   "cell_type": "markdown",
   "id": "62d8a597",
   "metadata": {},
   "source": [
    "### Exercise:\n",
    "\n",
    "Now, for whatever your best overall hyperparameter was: \n",
    "\n",
    "* Standardize the data\n",
    "* Fit and predict on the entire dataset\n",
    "* See what the largest coefficients were\n",
    "    * Hint: use \n",
    "    ```python\n",
    "    dict(zip(model.coef_, pf.get_feature_names()))\n",
    "    ```\n",
    "    for your model `model` to get the feature names from `PolynomialFeatures`.\n",
    "    \n",
    "    Then, use\n",
    "    ```python\n",
    "    dict(zip(list(range(len(X.columns.values))), X.columns.values))\n",
    "    ```\n",
    "    \n",
    "    to see which features in the `PolynomialFeatures` DataFrame correspond to which columns in the original DataFrame.\n"
   ]
  },
  {
   "cell_type": "code",
   "execution_count": 41,
   "id": "f9a77188",
   "metadata": {},
   "outputs": [
    {
     "data": {
      "text/plain": [
       "0.9134777735196521"
      ]
     },
     "execution_count": 41,
     "metadata": {},
     "output_type": "execute_result"
    }
   ],
   "source": [
    "# Once we have found the hyperparameter (alpha~1e-2=0.01)\n",
    "# make the model and train it on ALL the data\n",
    "# Then release it into the wild .....\n",
    "best_estimator = Pipeline([\n",
    "                    (\"scaler\", s),\n",
    "                    (\"make_higher_degree\", PolynomialFeatures(degree=2)),\n",
    "                    (\"lasso_regression\", Lasso(alpha=0.03))])\n",
    "\n",
    "best_estimator.fit(X, y)\n",
    "best_estimator.score(X, y)"
   ]
  },
  {
   "cell_type": "code",
   "execution_count": 43,
   "id": "22d367de",
   "metadata": {},
   "outputs": [],
   "source": [
    "df_importances = pd.DataFrame(zip(best_estimator.named_steps[\"make_higher_degree\"].get_feature_names(),\n",
    "                 best_estimator.named_steps[\"lasso_regression\"].coef_,))"
   ]
  },
  {
   "cell_type": "code",
   "execution_count": 44,
   "id": "f78c8e7a",
   "metadata": {},
   "outputs": [],
   "source": [
    "col_names_dict = dict(zip(list(range(len(X.columns.values))), X.columns.values))"
   ]
  },
  {
   "cell_type": "code",
   "execution_count": 45,
   "id": "9c7d038e",
   "metadata": {},
   "outputs": [
    {
     "data": {
      "text/plain": [
       "{0: 'CRIM',\n",
       " 1: 'ZN',\n",
       " 2: 'INDUS',\n",
       " 3: 'CHAS',\n",
       " 4: 'NOX',\n",
       " 5: 'RM',\n",
       " 6: 'AGE',\n",
       " 7: 'DIS',\n",
       " 8: 'RAD',\n",
       " 9: 'TAX',\n",
       " 10: 'PTRATIO',\n",
       " 11: 'B',\n",
       " 12: 'LSTAT'}"
      ]
     },
     "execution_count": 45,
     "metadata": {},
     "output_type": "execute_result"
    }
   ],
   "source": [
    "col_names_dict"
   ]
  },
  {
   "cell_type": "code",
   "execution_count": 46,
   "id": "96ffda20",
   "metadata": {},
   "outputs": [
    {
     "data": {
      "text/html": [
       "<div>\n",
       "<style scoped>\n",
       "    .dataframe tbody tr th:only-of-type {\n",
       "        vertical-align: middle;\n",
       "    }\n",
       "\n",
       "    .dataframe tbody tr th {\n",
       "        vertical-align: top;\n",
       "    }\n",
       "\n",
       "    .dataframe thead th {\n",
       "        text-align: right;\n",
       "    }\n",
       "</style>\n",
       "<table border=\"1\" class=\"dataframe\">\n",
       "  <thead>\n",
       "    <tr style=\"text-align: right;\">\n",
       "      <th></th>\n",
       "      <th>0</th>\n",
       "      <th>1</th>\n",
       "    </tr>\n",
       "  </thead>\n",
       "  <tbody>\n",
       "    <tr>\n",
       "      <th>13</th>\n",
       "      <td>x12</td>\n",
       "      <td>-3.395426</td>\n",
       "    </tr>\n",
       "    <tr>\n",
       "      <th>8</th>\n",
       "      <td>x7</td>\n",
       "      <td>-2.561614</td>\n",
       "    </tr>\n",
       "    <tr>\n",
       "      <th>10</th>\n",
       "      <td>x9</td>\n",
       "      <td>-1.722662</td>\n",
       "    </tr>\n",
       "    <tr>\n",
       "      <th>94</th>\n",
       "      <td>x8 x12</td>\n",
       "      <td>-1.124408</td>\n",
       "    </tr>\n",
       "    <tr>\n",
       "      <th>72</th>\n",
       "      <td>x5 x8</td>\n",
       "      <td>-1.085987</td>\n",
       "    </tr>\n",
       "    <tr>\n",
       "      <th>...</th>\n",
       "      <td>...</td>\n",
       "      <td>...</td>\n",
       "    </tr>\n",
       "    <tr>\n",
       "      <th>9</th>\n",
       "      <td>x8</td>\n",
       "      <td>1.127783</td>\n",
       "    </tr>\n",
       "    <tr>\n",
       "      <th>79</th>\n",
       "      <td>x6 x8</td>\n",
       "      <td>1.363407</td>\n",
       "    </tr>\n",
       "    <tr>\n",
       "      <th>96</th>\n",
       "      <td>x9 x10</td>\n",
       "      <td>1.962870</td>\n",
       "    </tr>\n",
       "    <tr>\n",
       "      <th>6</th>\n",
       "      <td>x5</td>\n",
       "      <td>3.326791</td>\n",
       "    </tr>\n",
       "    <tr>\n",
       "      <th>17</th>\n",
       "      <td>x0 x3</td>\n",
       "      <td>3.536536</td>\n",
       "    </tr>\n",
       "  </tbody>\n",
       "</table>\n",
       "<p>105 rows × 2 columns</p>\n",
       "</div>"
      ],
      "text/plain": [
       "         0         1\n",
       "13     x12 -3.395426\n",
       "8       x7 -2.561614\n",
       "10      x9 -1.722662\n",
       "94  x8 x12 -1.124408\n",
       "72   x5 x8 -1.085987\n",
       "..     ...       ...\n",
       "9       x8  1.127783\n",
       "79   x6 x8  1.363407\n",
       "96  x9 x10  1.962870\n",
       "6       x5  3.326791\n",
       "17   x0 x3  3.536536\n",
       "\n",
       "[105 rows x 2 columns]"
      ]
     },
     "execution_count": 46,
     "metadata": {},
     "output_type": "execute_result"
    }
   ],
   "source": [
    "df_importances.sort_values(by=1)"
   ]
  },
  {
   "cell_type": "markdown",
   "id": "9d3417a3",
   "metadata": {},
   "source": [
    "## Grid Search CV\n",
    "\n",
    "To do cross-validation, we used two techniques:\n",
    "- use `KFolds` and manually create a loop to do cross-validation\n",
    "- use `cross_val_predict` and `score` to get a cross-valiated score in a couple of lines.\n",
    "\n",
    "To do hyper-parameter tuning, we see a general pattern:\n",
    "- use `cross_val_predict` and `score` in a manually written loop over hyperparemeters, then select the best one.\n",
    "\n",
    "Perhaps not surprisingly, there is a function that does this for us -- `GridSearchCV`"
   ]
  },
  {
   "cell_type": "code",
   "execution_count": 51,
   "id": "cc5a48d8",
   "metadata": {},
   "outputs": [],
   "source": [
    "from sklearn.model_selection import GridSearchCV\n",
    "\n",
    "# Same estimator as before\n",
    "estimator = Pipeline([(\"scaler\", StandardScaler()),\n",
    "        (\"polynomial_features\", PolynomialFeatures()),\n",
    "        (\"ridge_regression\", Ridge())])\n",
    "\n",
    "params = {\n",
    "    'polynomial_features__degree': [1, 2, 3],\n",
    "    'ridge_regression__alpha': np.geomspace(4, 20, 30)\n",
    "}\n",
    "\n",
    "grid = GridSearchCV(estimator, params, cv=kf)"
   ]
  },
  {
   "cell_type": "code",
   "execution_count": 52,
   "id": "5c2da8c2",
   "metadata": {},
   "outputs": [
    {
     "data": {
      "text/plain": [
       "GridSearchCV(cv=KFold(n_splits=3, random_state=1, shuffle=True),\n",
       "             estimator=Pipeline(steps=[('scaler', StandardScaler()),\n",
       "                                       ('polynomial_features',\n",
       "                                        PolynomialFeatures()),\n",
       "                                       ('ridge_regression', Ridge())]),\n",
       "             param_grid={'polynomial_features__degree': [1, 2, 3],\n",
       "                         'ridge_regression__alpha': array([ 4.        ,  4.22826702,  4.46956049,  4.7246238 ,  4.99424274,\n",
       "        5.27924796,  5.58051751,  5.89897953,  6.23561514,  6.59146146,\n",
       "        6.96761476,  7.36523392,  7.78554391,  8.22983963,  8.69948987,\n",
       "        9.19594151,  9.72072404, 10.27545421, 10.86184103, 11.48169104,\n",
       "       12.13691388, 12.82952815, 13.56166768, 14.33558803, 15.15367351,\n",
       "       16.01844446, 16.93256509, 17.89885162, 18.92028098, 20.        ])})"
      ]
     },
     "execution_count": 52,
     "metadata": {},
     "output_type": "execute_result"
    }
   ],
   "source": [
    "grid.fit(X, y)"
   ]
  },
  {
   "cell_type": "code",
   "execution_count": 59,
   "id": "6f107d6a",
   "metadata": {},
   "outputs": [
    {
     "name": "stdout",
     "output_type": "stream",
     "text": [
      "Best Score: 0.853\n",
      " Best Parameters: {'polynomial_features__degree': 2, 'ridge_regression__alpha': 17.898851619528912}\n"
     ]
    }
   ],
   "source": [
    "print(f\"Best Score: {grid.best_score_:.3f}\\n Best Parameters: {grid.best_params_}\")"
   ]
  },
  {
   "cell_type": "code",
   "execution_count": 60,
   "id": "dc91c07d",
   "metadata": {},
   "outputs": [],
   "source": [
    "y_predict = grid.predict(X)"
   ]
  },
  {
   "cell_type": "code",
   "execution_count": 61,
   "id": "a816d23a",
   "metadata": {},
   "outputs": [
    {
     "data": {
      "text/plain": [
       "0.9133201649751171"
      ]
     },
     "execution_count": 61,
     "metadata": {},
     "output_type": "execute_result"
    }
   ],
   "source": [
    "# This includes both in-sample and out-of-sample\n",
    "r2_score(y, y_predict)"
   ]
  },
  {
   "cell_type": "code",
   "execution_count": 62,
   "id": "604f38be",
   "metadata": {},
   "outputs": [
    {
     "data": {
      "text/plain": [
       "array([ 0.00000000e+00, -1.36995040e-01,  1.48120344e-03, -2.59640942e-02,\n",
       "        9.82450498e-02, -9.23822591e-01,  3.23846438e+00, -9.11308293e-01,\n",
       "       -1.84973837e+00,  7.93515177e-01, -9.73033037e-01, -7.25208114e-01,\n",
       "        5.25945136e-01, -2.99813007e+00,  7.42896889e-02,  7.22139400e-02,\n",
       "        6.32439949e-02,  1.56367307e+00, -4.53124204e-01,  5.46170910e-01,\n",
       "        1.38200377e-01,  2.42087300e-01, -7.02784220e-01,  1.50951069e-01,\n",
       "       -6.44769753e-02, -7.97208467e-02,  4.44675181e-01,  2.18993842e-01,\n",
       "       -1.36932568e-01,  1.55572301e-01,  2.02020325e-01,  5.76220122e-02,\n",
       "       -1.00239072e-01, -2.51066703e-01, -1.19775873e-01,  6.42902392e-01,\n",
       "        6.71870989e-02,  8.24223060e-02, -2.24146135e-01,  5.57286164e-01,\n",
       "        1.14389782e-01,  8.65941718e-01,  5.18441279e-01,  5.28384958e-01,\n",
       "        6.44472041e-01, -4.02916380e-02,  6.61966211e-02, -4.14677934e-01,\n",
       "        2.07347928e-01, -6.83413254e-01,  3.33620470e-01, -9.51849594e-01,\n",
       "       -7.98805286e-01,  2.84586880e-01,  2.39179119e-02,  1.16152012e-01,\n",
       "        6.21769359e-01, -1.23067171e-01, -1.16893645e-01, -3.81180298e-01,\n",
       "       -4.43716890e-01, -4.80963281e-01, -4.45000767e-01,  7.06453835e-01,\n",
       "       -7.83111601e-01,  4.84151226e-02, -5.32570928e-01, -4.86347169e-02,\n",
       "        4.98882955e-01,  2.37540863e-01, -6.74847861e-01,  4.85207164e-02,\n",
       "       -7.89562157e-01, -8.56242562e-01, -1.02823439e+00, -1.53176130e-01,\n",
       "       -7.58134135e-01,  1.40880036e-01,  6.23345898e-02,  1.00263024e+00,\n",
       "        1.11326251e-01, -5.88406946e-02, -9.03212579e-01, -1.09758541e+00,\n",
       "        9.54106785e-01, -5.28338600e-01, -3.62672288e-01, -1.09970042e-01,\n",
       "       -2.56391200e-01,  8.10507274e-01, -7.71444624e-01,  8.24891601e-01,\n",
       "        3.88828740e-01, -1.08060361e-01, -1.07653612e+00,  4.22306322e-02,\n",
       "        1.22114643e+00, -3.45664962e-01, -1.05915567e+00, -1.29522118e-01,\n",
       "        7.19130984e-02, -7.43072088e-03, -3.64001332e-01, -4.17182150e-01,\n",
       "        8.07844379e-01])"
      ]
     },
     "execution_count": 62,
     "metadata": {},
     "output_type": "execute_result"
    }
   ],
   "source": [
    "# Notice that \"grid\" is a fit object!\n",
    "# We can use grid.predict(X_test) to get brand new predictions!\n",
    "grid.best_estimator_.named_steps['ridge_regression'].coef_"
   ]
  },
  {
   "cell_type": "code",
   "execution_count": 63,
   "id": "473bca68",
   "metadata": {},
   "outputs": [
    {
     "data": {
      "text/plain": [
       "{'mean_fit_time': array([0.00599281, 0.00531753, 0.00498637, 0.00498645, 0.00498692,\n",
       "        0.00498056, 0.00499058, 0.00498096, 0.00498637, 0.00498501,\n",
       "        0.00498374, 0.00531864, 0.00498358, 0.00531689, 0.004987  ,\n",
       "        0.00465123, 0.00499503, 0.00465425, 0.00465027, 0.0049866 ,\n",
       "        0.00498708, 0.00499002, 0.00499741, 0.00498541, 0.00465393,\n",
       "        0.00498668, 0.00498676, 0.00465433, 0.00499551, 0.00466315,\n",
       "        0.00630657, 0.00698193, 0.00664894, 0.00631642, 0.00605361,\n",
       "        0.00629624, 0.00598415, 0.00631706, 0.00598439, 0.00598454,\n",
       "        0.00632278, 0.00663932, 0.00663884, 0.00598399, 0.00664886,\n",
       "        0.00698177, 0.00698161, 0.00598447, 0.00598415, 0.00598367,\n",
       "        0.00666777, 0.00632413, 0.00598931, 0.00665863, 0.00597556,\n",
       "        0.00664783, 0.00631611, 0.00664846, 0.00732287, 0.00651352,\n",
       "        0.01029619, 0.01030779, 0.0103058 , 0.0096519 , 0.00997313,\n",
       "        0.00997329, 0.0106384 , 0.01031987, 0.01073654, 0.01133625,\n",
       "        0.01197092, 0.01132091, 0.01167099, 0.01132464, 0.01398349,\n",
       "        0.01150537, 0.01132902, 0.01099769, 0.01164842, 0.011175  ,\n",
       "        0.01131646, 0.01150409, 0.01101104, 0.01052054, 0.01149241,\n",
       "        0.01082834, 0.01166519, 0.01050901, 0.0108668 , 0.01105372]),\n",
       " 'std_fit_time': array([8.24831287e-04, 4.70814191e-04, 5.61957980e-07, 4.05233662e-07,\n",
       "        1.12391596e-07, 1.41291927e-05, 2.21100294e-06, 1.65689001e-05,\n",
       "        2.24783192e-07, 3.15297992e-06, 4.10344780e-06, 4.68335781e-04,\n",
       "        2.65729483e-06, 4.68730859e-04, 3.37174788e-07, 4.69472773e-04,\n",
       "        1.27374938e-05, 4.70078344e-04, 4.75866655e-04, 2.24783192e-07,\n",
       "        1.47400196e-06, 1.95961444e-06, 1.38779730e-05, 2.24783192e-06,\n",
       "        4.69347668e-04, 1.12391596e-07, 3.37174788e-07, 4.70302724e-04,\n",
       "        1.27002504e-05, 4.55973744e-04, 4.77303846e-04, 8.13614718e-04,\n",
       "        4.69459697e-04, 4.70190333e-04, 1.17785749e-04, 4.84295739e-04,\n",
       "        9.60274217e-07, 4.69909424e-04, 2.97360213e-07, 1.94667955e-07,\n",
       "        4.66262154e-04, 4.83227677e-04, 4.62996249e-04, 9.60274217e-07,\n",
       "        4.70752210e-04, 4.05233662e-07, 1.94667955e-07, 4.05233662e-07,\n",
       "        5.61957980e-07, 2.97360213e-07, 4.83319657e-04, 4.81766665e-04,\n",
       "        8.43161723e-06, 4.77469991e-04, 1.16887260e-05, 4.70527507e-04,\n",
       "        4.69235075e-04, 4.70302885e-04, 4.62332185e-04, 4.10288211e-04,\n",
       "        4.77243502e-04, 4.71733557e-04, 1.24441003e-03, 4.56704505e-04,\n",
       "        1.25153985e-06, 8.14490792e-04, 9.40268113e-04, 1.23090850e-03,\n",
       "        5.50823644e-04, 5.09697710e-04, 2.76218211e-06, 4.69792798e-04,\n",
       "        9.31859504e-04, 4.66319599e-04, 1.41259587e-03, 7.00667491e-04,\n",
       "        1.24334906e-03, 1.14065012e-06, 4.80813770e-04, 6.28394138e-04,\n",
       "        4.60469850e-04, 7.03947434e-04, 4.08911720e-04, 4.17474692e-04,\n",
       "        4.09031484e-04, 8.45764593e-04, 9.53505110e-04, 4.08064571e-04,\n",
       "        2.78754202e-04, 1.35397772e-03]),\n",
       " 'mean_score_time': array([0.00198531, 0.00233746, 0.00199684, 0.00232689, 0.00199596,\n",
       "        0.00232704, 0.00199246, 0.00233237, 0.00199517, 0.00232728,\n",
       "        0.00199477, 0.00232768, 0.00199628, 0.00232895, 0.00199978,\n",
       "        0.00233173, 0.00199588, 0.00199739, 0.00199588, 0.00199604,\n",
       "        0.00199358, 0.00198364, 0.00198412, 0.00199946, 0.00199215,\n",
       "        0.00198571, 0.00199485, 0.00265956, 0.00266083, 0.00266059,\n",
       "        0.00293446, 0.00299525, 0.00299223, 0.00299946, 0.0031143 ,\n",
       "        0.00299978, 0.00299168, 0.00299176, 0.00299144, 0.00299112,\n",
       "        0.00300392, 0.00258485, 0.00299184, 0.00299199, 0.00232744,\n",
       "        0.00199461, 0.00232681, 0.00299184, 0.00299168, 0.00299263,\n",
       "        0.00264072, 0.00300352, 0.00299287, 0.00264963, 0.00302307,\n",
       "        0.00266004, 0.00299223, 0.00266004, 0.00266091, 0.00294677,\n",
       "        0.00299144, 0.0029699 , 0.00316024, 0.00364598, 0.00316095,\n",
       "        0.0029916 , 0.00299199, 0.00299382, 0.00299152, 0.00298754,\n",
       "        0.00299184, 0.00332411, 0.00365027, 0.00350475, 0.00349863,\n",
       "        0.00332006, 0.00332411, 0.00299096, 0.00334064, 0.00298715,\n",
       "        0.00333365, 0.00282749, 0.00299573, 0.00316079, 0.00283321,\n",
       "        0.00282788, 0.00299271, 0.00298921, 0.00298786, 0.00304151]),\n",
       " 'std_score_time': array([1.43698710e-05, 4.84857345e-04, 1.48680106e-06, 4.70246599e-04,\n",
       "        1.74478677e-06, 4.73510636e-04, 1.66324373e-06, 4.62664479e-04,\n",
       "        2.34680542e-06, 4.69292815e-04, 4.89903609e-07, 4.69854771e-04,\n",
       "        8.92080638e-07, 4.73505834e-04, 4.92988028e-06, 4.71707890e-04,\n",
       "        1.36730278e-06, 2.92218150e-06, 1.98841031e-06, 7.78671819e-07,\n",
       "        1.48680106e-06, 1.36974880e-05, 1.36836480e-05, 3.99583343e-06,\n",
       "        2.54064677e-06, 1.30939827e-05, 1.94667955e-07, 4.70358870e-04,\n",
       "        4.68729161e-04, 4.70753418e-04, 8.24406722e-05, 4.38327225e-06,\n",
       "        1.12391596e-07, 1.06772016e-05, 1.48561795e-04, 7.96712941e-06,\n",
       "        7.78671819e-07, 2.24783192e-07, 1.94667955e-07, 6.25769923e-07,\n",
       "        1.69811763e-05, 4.26719542e-04, 1.12391596e-07, 6.25769923e-07,\n",
       "        4.70527427e-04, 1.94667955e-07, 4.69965469e-04, 1.12391596e-07,\n",
       "        0.00000000e+00, 5.84003864e-07, 4.96321441e-04, 1.54173251e-05,\n",
       "        5.15042996e-07, 4.63489002e-04, 4.13971983e-05, 4.70190333e-04,\n",
       "        8.10467325e-07, 4.70191461e-04, 4.71315856e-04, 8.83750349e-05,\n",
       "        1.94667955e-07, 2.96230221e-05, 2.38382575e-04, 4.62664479e-04,\n",
       "        2.39056925e-04, 2.97360213e-07, 6.25769923e-07, 8.16829243e-04,\n",
       "        1.12391596e-07, 1.16253338e-05, 1.12391596e-07, 4.69796912e-04,\n",
       "        4.66227692e-04, 3.94304303e-04, 4.08105585e-04, 4.64402075e-04,\n",
       "        4.70977074e-04, 7.78671819e-07, 4.58702490e-04, 3.37736279e-06,\n",
       "        4.81598028e-04, 2.32369645e-04, 4.07059631e-04, 6.20233743e-04,\n",
       "        2.36179674e-04, 2.31471004e-04, 9.98958356e-07, 3.31698048e-06,\n",
       "        5.39830770e-06, 9.23737906e-05]),\n",
       " 'param_polynomial_features__degree': masked_array(data=[1, 1, 1, 1, 1, 1, 1, 1, 1, 1, 1, 1, 1, 1, 1, 1, 1, 1,\n",
       "                    1, 1, 1, 1, 1, 1, 1, 1, 1, 1, 1, 1, 2, 2, 2, 2, 2, 2,\n",
       "                    2, 2, 2, 2, 2, 2, 2, 2, 2, 2, 2, 2, 2, 2, 2, 2, 2, 2,\n",
       "                    2, 2, 2, 2, 2, 2, 3, 3, 3, 3, 3, 3, 3, 3, 3, 3, 3, 3,\n",
       "                    3, 3, 3, 3, 3, 3, 3, 3, 3, 3, 3, 3, 3, 3, 3, 3, 3, 3],\n",
       "              mask=[False, False, False, False, False, False, False, False,\n",
       "                    False, False, False, False, False, False, False, False,\n",
       "                    False, False, False, False, False, False, False, False,\n",
       "                    False, False, False, False, False, False, False, False,\n",
       "                    False, False, False, False, False, False, False, False,\n",
       "                    False, False, False, False, False, False, False, False,\n",
       "                    False, False, False, False, False, False, False, False,\n",
       "                    False, False, False, False, False, False, False, False,\n",
       "                    False, False, False, False, False, False, False, False,\n",
       "                    False, False, False, False, False, False, False, False,\n",
       "                    False, False, False, False, False, False, False, False,\n",
       "                    False, False],\n",
       "        fill_value='?',\n",
       "             dtype=object),\n",
       " 'param_ridge_regression__alpha': masked_array(data=[4.0, 4.228267015769416, 4.4695604891609,\n",
       "                    4.724623797826311, 4.994242741567055,\n",
       "                    5.279247963228449, 5.58051750774668, 5.898979527232258,\n",
       "                    6.235615140423803, 6.591461455321584,\n",
       "                    6.9676147643129305, 7.365233921633089,\n",
       "                    7.785543913566802, 8.229839632389709,\n",
       "                    8.699489865676323, 9.195941513264877,\n",
       "                    9.720724044870641, 10.275454212080797,\n",
       "                    10.861841029247536, 11.481691038624568,\n",
       "                    12.136913875967887, 12.82952815374728,\n",
       "                    13.561667680093686, 14.335588032641558,\n",
       "                    15.153673507519274, 16.018444464895637,\n",
       "                    16.932565093713098, 17.898851619528912,\n",
       "                    18.920280980751272, 20.000000000000004, 4.0,\n",
       "                    4.228267015769416, 4.4695604891609, 4.724623797826311,\n",
       "                    4.994242741567055, 5.279247963228449, 5.58051750774668,\n",
       "                    5.898979527232258, 6.235615140423803,\n",
       "                    6.591461455321584, 6.9676147643129305,\n",
       "                    7.365233921633089, 7.785543913566802,\n",
       "                    8.229839632389709, 8.699489865676323,\n",
       "                    9.195941513264877, 9.720724044870641,\n",
       "                    10.275454212080797, 10.861841029247536,\n",
       "                    11.481691038624568, 12.136913875967887,\n",
       "                    12.82952815374728, 13.561667680093686,\n",
       "                    14.335588032641558, 15.153673507519274,\n",
       "                    16.018444464895637, 16.932565093713098,\n",
       "                    17.898851619528912, 18.920280980751272,\n",
       "                    20.000000000000004, 4.0, 4.228267015769416,\n",
       "                    4.4695604891609, 4.724623797826311, 4.994242741567055,\n",
       "                    5.279247963228449, 5.58051750774668, 5.898979527232258,\n",
       "                    6.235615140423803, 6.591461455321584,\n",
       "                    6.9676147643129305, 7.365233921633089,\n",
       "                    7.785543913566802, 8.229839632389709,\n",
       "                    8.699489865676323, 9.195941513264877,\n",
       "                    9.720724044870641, 10.275454212080797,\n",
       "                    10.861841029247536, 11.481691038624568,\n",
       "                    12.136913875967887, 12.82952815374728,\n",
       "                    13.561667680093686, 14.335588032641558,\n",
       "                    15.153673507519274, 16.018444464895637,\n",
       "                    16.932565093713098, 17.898851619528912,\n",
       "                    18.920280980751272, 20.000000000000004],\n",
       "              mask=[False, False, False, False, False, False, False, False,\n",
       "                    False, False, False, False, False, False, False, False,\n",
       "                    False, False, False, False, False, False, False, False,\n",
       "                    False, False, False, False, False, False, False, False,\n",
       "                    False, False, False, False, False, False, False, False,\n",
       "                    False, False, False, False, False, False, False, False,\n",
       "                    False, False, False, False, False, False, False, False,\n",
       "                    False, False, False, False, False, False, False, False,\n",
       "                    False, False, False, False, False, False, False, False,\n",
       "                    False, False, False, False, False, False, False, False,\n",
       "                    False, False, False, False, False, False, False, False,\n",
       "                    False, False],\n",
       "        fill_value='?',\n",
       "             dtype=object),\n",
       " 'params': [{'polynomial_features__degree': 1, 'ridge_regression__alpha': 4.0},\n",
       "  {'polynomial_features__degree': 1,\n",
       "   'ridge_regression__alpha': 4.228267015769416},\n",
       "  {'polynomial_features__degree': 1,\n",
       "   'ridge_regression__alpha': 4.4695604891609},\n",
       "  {'polynomial_features__degree': 1,\n",
       "   'ridge_regression__alpha': 4.724623797826311},\n",
       "  {'polynomial_features__degree': 1,\n",
       "   'ridge_regression__alpha': 4.994242741567055},\n",
       "  {'polynomial_features__degree': 1,\n",
       "   'ridge_regression__alpha': 5.279247963228449},\n",
       "  {'polynomial_features__degree': 1,\n",
       "   'ridge_regression__alpha': 5.58051750774668},\n",
       "  {'polynomial_features__degree': 1,\n",
       "   'ridge_regression__alpha': 5.898979527232258},\n",
       "  {'polynomial_features__degree': 1,\n",
       "   'ridge_regression__alpha': 6.235615140423803},\n",
       "  {'polynomial_features__degree': 1,\n",
       "   'ridge_regression__alpha': 6.591461455321584},\n",
       "  {'polynomial_features__degree': 1,\n",
       "   'ridge_regression__alpha': 6.9676147643129305},\n",
       "  {'polynomial_features__degree': 1,\n",
       "   'ridge_regression__alpha': 7.365233921633089},\n",
       "  {'polynomial_features__degree': 1,\n",
       "   'ridge_regression__alpha': 7.785543913566802},\n",
       "  {'polynomial_features__degree': 1,\n",
       "   'ridge_regression__alpha': 8.229839632389709},\n",
       "  {'polynomial_features__degree': 1,\n",
       "   'ridge_regression__alpha': 8.699489865676323},\n",
       "  {'polynomial_features__degree': 1,\n",
       "   'ridge_regression__alpha': 9.195941513264877},\n",
       "  {'polynomial_features__degree': 1,\n",
       "   'ridge_regression__alpha': 9.720724044870641},\n",
       "  {'polynomial_features__degree': 1,\n",
       "   'ridge_regression__alpha': 10.275454212080797},\n",
       "  {'polynomial_features__degree': 1,\n",
       "   'ridge_regression__alpha': 10.861841029247536},\n",
       "  {'polynomial_features__degree': 1,\n",
       "   'ridge_regression__alpha': 11.481691038624568},\n",
       "  {'polynomial_features__degree': 1,\n",
       "   'ridge_regression__alpha': 12.136913875967887},\n",
       "  {'polynomial_features__degree': 1,\n",
       "   'ridge_regression__alpha': 12.82952815374728},\n",
       "  {'polynomial_features__degree': 1,\n",
       "   'ridge_regression__alpha': 13.561667680093686},\n",
       "  {'polynomial_features__degree': 1,\n",
       "   'ridge_regression__alpha': 14.335588032641558},\n",
       "  {'polynomial_features__degree': 1,\n",
       "   'ridge_regression__alpha': 15.153673507519274},\n",
       "  {'polynomial_features__degree': 1,\n",
       "   'ridge_regression__alpha': 16.018444464895637},\n",
       "  {'polynomial_features__degree': 1,\n",
       "   'ridge_regression__alpha': 16.932565093713098},\n",
       "  {'polynomial_features__degree': 1,\n",
       "   'ridge_regression__alpha': 17.898851619528912},\n",
       "  {'polynomial_features__degree': 1,\n",
       "   'ridge_regression__alpha': 18.920280980751272},\n",
       "  {'polynomial_features__degree': 1,\n",
       "   'ridge_regression__alpha': 20.000000000000004},\n",
       "  {'polynomial_features__degree': 2, 'ridge_regression__alpha': 4.0},\n",
       "  {'polynomial_features__degree': 2,\n",
       "   'ridge_regression__alpha': 4.228267015769416},\n",
       "  {'polynomial_features__degree': 2,\n",
       "   'ridge_regression__alpha': 4.4695604891609},\n",
       "  {'polynomial_features__degree': 2,\n",
       "   'ridge_regression__alpha': 4.724623797826311},\n",
       "  {'polynomial_features__degree': 2,\n",
       "   'ridge_regression__alpha': 4.994242741567055},\n",
       "  {'polynomial_features__degree': 2,\n",
       "   'ridge_regression__alpha': 5.279247963228449},\n",
       "  {'polynomial_features__degree': 2,\n",
       "   'ridge_regression__alpha': 5.58051750774668},\n",
       "  {'polynomial_features__degree': 2,\n",
       "   'ridge_regression__alpha': 5.898979527232258},\n",
       "  {'polynomial_features__degree': 2,\n",
       "   'ridge_regression__alpha': 6.235615140423803},\n",
       "  {'polynomial_features__degree': 2,\n",
       "   'ridge_regression__alpha': 6.591461455321584},\n",
       "  {'polynomial_features__degree': 2,\n",
       "   'ridge_regression__alpha': 6.9676147643129305},\n",
       "  {'polynomial_features__degree': 2,\n",
       "   'ridge_regression__alpha': 7.365233921633089},\n",
       "  {'polynomial_features__degree': 2,\n",
       "   'ridge_regression__alpha': 7.785543913566802},\n",
       "  {'polynomial_features__degree': 2,\n",
       "   'ridge_regression__alpha': 8.229839632389709},\n",
       "  {'polynomial_features__degree': 2,\n",
       "   'ridge_regression__alpha': 8.699489865676323},\n",
       "  {'polynomial_features__degree': 2,\n",
       "   'ridge_regression__alpha': 9.195941513264877},\n",
       "  {'polynomial_features__degree': 2,\n",
       "   'ridge_regression__alpha': 9.720724044870641},\n",
       "  {'polynomial_features__degree': 2,\n",
       "   'ridge_regression__alpha': 10.275454212080797},\n",
       "  {'polynomial_features__degree': 2,\n",
       "   'ridge_regression__alpha': 10.861841029247536},\n",
       "  {'polynomial_features__degree': 2,\n",
       "   'ridge_regression__alpha': 11.481691038624568},\n",
       "  {'polynomial_features__degree': 2,\n",
       "   'ridge_regression__alpha': 12.136913875967887},\n",
       "  {'polynomial_features__degree': 2,\n",
       "   'ridge_regression__alpha': 12.82952815374728},\n",
       "  {'polynomial_features__degree': 2,\n",
       "   'ridge_regression__alpha': 13.561667680093686},\n",
       "  {'polynomial_features__degree': 2,\n",
       "   'ridge_regression__alpha': 14.335588032641558},\n",
       "  {'polynomial_features__degree': 2,\n",
       "   'ridge_regression__alpha': 15.153673507519274},\n",
       "  {'polynomial_features__degree': 2,\n",
       "   'ridge_regression__alpha': 16.018444464895637},\n",
       "  {'polynomial_features__degree': 2,\n",
       "   'ridge_regression__alpha': 16.932565093713098},\n",
       "  {'polynomial_features__degree': 2,\n",
       "   'ridge_regression__alpha': 17.898851619528912},\n",
       "  {'polynomial_features__degree': 2,\n",
       "   'ridge_regression__alpha': 18.920280980751272},\n",
       "  {'polynomial_features__degree': 2,\n",
       "   'ridge_regression__alpha': 20.000000000000004},\n",
       "  {'polynomial_features__degree': 3, 'ridge_regression__alpha': 4.0},\n",
       "  {'polynomial_features__degree': 3,\n",
       "   'ridge_regression__alpha': 4.228267015769416},\n",
       "  {'polynomial_features__degree': 3,\n",
       "   'ridge_regression__alpha': 4.4695604891609},\n",
       "  {'polynomial_features__degree': 3,\n",
       "   'ridge_regression__alpha': 4.724623797826311},\n",
       "  {'polynomial_features__degree': 3,\n",
       "   'ridge_regression__alpha': 4.994242741567055},\n",
       "  {'polynomial_features__degree': 3,\n",
       "   'ridge_regression__alpha': 5.279247963228449},\n",
       "  {'polynomial_features__degree': 3,\n",
       "   'ridge_regression__alpha': 5.58051750774668},\n",
       "  {'polynomial_features__degree': 3,\n",
       "   'ridge_regression__alpha': 5.898979527232258},\n",
       "  {'polynomial_features__degree': 3,\n",
       "   'ridge_regression__alpha': 6.235615140423803},\n",
       "  {'polynomial_features__degree': 3,\n",
       "   'ridge_regression__alpha': 6.591461455321584},\n",
       "  {'polynomial_features__degree': 3,\n",
       "   'ridge_regression__alpha': 6.9676147643129305},\n",
       "  {'polynomial_features__degree': 3,\n",
       "   'ridge_regression__alpha': 7.365233921633089},\n",
       "  {'polynomial_features__degree': 3,\n",
       "   'ridge_regression__alpha': 7.785543913566802},\n",
       "  {'polynomial_features__degree': 3,\n",
       "   'ridge_regression__alpha': 8.229839632389709},\n",
       "  {'polynomial_features__degree': 3,\n",
       "   'ridge_regression__alpha': 8.699489865676323},\n",
       "  {'polynomial_features__degree': 3,\n",
       "   'ridge_regression__alpha': 9.195941513264877},\n",
       "  {'polynomial_features__degree': 3,\n",
       "   'ridge_regression__alpha': 9.720724044870641},\n",
       "  {'polynomial_features__degree': 3,\n",
       "   'ridge_regression__alpha': 10.275454212080797},\n",
       "  {'polynomial_features__degree': 3,\n",
       "   'ridge_regression__alpha': 10.861841029247536},\n",
       "  {'polynomial_features__degree': 3,\n",
       "   'ridge_regression__alpha': 11.481691038624568},\n",
       "  {'polynomial_features__degree': 3,\n",
       "   'ridge_regression__alpha': 12.136913875967887},\n",
       "  {'polynomial_features__degree': 3,\n",
       "   'ridge_regression__alpha': 12.82952815374728},\n",
       "  {'polynomial_features__degree': 3,\n",
       "   'ridge_regression__alpha': 13.561667680093686},\n",
       "  {'polynomial_features__degree': 3,\n",
       "   'ridge_regression__alpha': 14.335588032641558},\n",
       "  {'polynomial_features__degree': 3,\n",
       "   'ridge_regression__alpha': 15.153673507519274},\n",
       "  {'polynomial_features__degree': 3,\n",
       "   'ridge_regression__alpha': 16.018444464895637},\n",
       "  {'polynomial_features__degree': 3,\n",
       "   'ridge_regression__alpha': 16.932565093713098},\n",
       "  {'polynomial_features__degree': 3,\n",
       "   'ridge_regression__alpha': 17.898851619528912},\n",
       "  {'polynomial_features__degree': 3,\n",
       "   'ridge_regression__alpha': 18.920280980751272},\n",
       "  {'polynomial_features__degree': 3,\n",
       "   'ridge_regression__alpha': 20.000000000000004}],\n",
       " 'split0_test_score': array([0.76674325, 0.7667135 , 0.76667918, 0.76663983, 0.76659498,\n",
       "        0.76654409, 0.7664866 , 0.76642191, 0.7663494 , 0.76626839,\n",
       "        0.76617817, 0.76607799, 0.76596706, 0.76584454, 0.76570956,\n",
       "        0.76556122, 0.76539855, 0.76522055, 0.76502618, 0.76481437,\n",
       "        0.76458397, 0.76433382, 0.7640627 , 0.76376935, 0.76345247,\n",
       "        0.7631107 , 0.76274264, 0.76234684, 0.7619218 , 0.76146596,\n",
       "        0.85474896, 0.85590033, 0.85703296, 0.85814553, 0.8592368 ,\n",
       "        0.86030562, 0.8613509 , 0.86237164, 0.86336691, 0.86433589,\n",
       "        0.86527779, 0.86619194, 0.86707771, 0.86793454, 0.86876192,\n",
       "        0.86955941, 0.87032658, 0.87106304, 0.87176843, 0.87244239,\n",
       "        0.87308456, 0.87369457, 0.87427202, 0.87481648, 0.87532749,\n",
       "        0.87580452, 0.87624699, 0.87665425, 0.8770256 , 0.87736023,\n",
       "        0.73768171, 0.74231465, 0.74690975, 0.75146581, 0.75598053,\n",
       "        0.76045058, 0.76487185, 0.76923957, 0.77354847, 0.77779295,\n",
       "        0.78196717, 0.78606523, 0.79008125, 0.79400947, 0.79784438,\n",
       "        0.80158072, 0.80521361, 0.80873856, 0.81215152, 0.81544891,\n",
       "        0.81862761, 0.82168501, 0.82461899, 0.82742789, 0.83011057,\n",
       "        0.83266633, 0.83509494, 0.83739658, 0.83957187, 0.84162183]),\n",
       " 'split1_test_score': array([0.69995191, 0.69999896, 0.7000478 , 0.70009848, 0.70015103,\n",
       "        0.70020549, 0.7002619 , 0.70032027, 0.70038065, 0.70044307,\n",
       "        0.70050754, 0.7005741 , 0.70064276, 0.70071355, 0.70078647,\n",
       "        0.70086154, 0.70093876, 0.70101812, 0.70109962, 0.70118324,\n",
       "        0.70126893, 0.70135664, 0.70144632, 0.70153788, 0.70163119,\n",
       "        0.70172613, 0.7018225 , 0.7019201 , 0.70201867, 0.70211788,\n",
       "        0.85233028, 0.85236956, 0.85240589, 0.85243974, 0.85247158,\n",
       "        0.85250187, 0.85253107, 0.85255964, 0.852588  , 0.85261657,\n",
       "        0.85264574, 0.85267584, 0.85270719, 0.85274005, 0.85277461,\n",
       "        0.852811  , 0.85284927, 0.85288941, 0.8529313 , 0.85297471,\n",
       "        0.85301931, 0.85306467, 0.85311022, 0.85315525, 0.85319892,\n",
       "        0.85324027, 0.85327815, 0.85331129, 0.85333824, 0.85335743,\n",
       "        0.79500018, 0.80003367, 0.80483151, 0.80939243, 0.81371609,\n",
       "        0.81780306, 0.8216549 , 0.82527415, 0.82866433, 0.83182991,\n",
       "        0.83477624, 0.8375095 , 0.8400366 , 0.84236511, 0.84450313,\n",
       "        0.84645919, 0.84824214, 0.84986104, 0.85132504, 0.85264328,\n",
       "        0.8538248 , 0.85487844, 0.85581278, 0.85663607, 0.85735615,\n",
       "        0.85798043, 0.85851587, 0.85896894, 0.85934563, 0.85965143]),\n",
       " 'split2_test_score': array([0.69121641, 0.69119223, 0.69116523, 0.69113513, 0.69110163,\n",
       "        0.69106443, 0.69102318, 0.69097751, 0.69092704, 0.69087135,\n",
       "        0.69080999, 0.69074248, 0.69066833, 0.69058699, 0.69049789,\n",
       "        0.69040042, 0.69029395, 0.69017779, 0.69005124, 0.68991354,\n",
       "        0.6897639 , 0.68960148, 0.68942541, 0.68923478, 0.6890286 ,\n",
       "        0.68880589, 0.68856558, 0.68830657, 0.68802772, 0.68772781,\n",
       "        0.8307574 , 0.8308034 , 0.83084157, 0.83087195, 0.83089449,\n",
       "        0.83090904, 0.83091534, 0.83091304, 0.8309017 , 0.83088077,\n",
       "        0.83084961, 0.83080749, 0.83075362, 0.83068709, 0.83060692,\n",
       "        0.83051209, 0.83040146, 0.83027386, 0.83012803, 0.82996266,\n",
       "        0.82977639, 0.82956777, 0.82933532, 0.82907749, 0.82879269,\n",
       "        0.82847926, 0.82813551, 0.82775966, 0.82734993, 0.82690444,\n",
       "        0.72052777, 0.72512769, 0.72965956, 0.73412043, 0.73850767,\n",
       "        0.7428189 , 0.74705201, 0.75120515, 0.75527668, 0.75926517,\n",
       "        0.76316941, 0.76698837, 0.77072119, 0.77436717, 0.77792577,\n",
       "        0.78139657, 0.78477927, 0.7880737 , 0.79127977, 0.79439751,\n",
       "        0.79742702, 0.80036846, 0.80322209, 0.80598822, 0.80866722,\n",
       "        0.81125952, 0.8137656 , 0.81618601, 0.81852134, 0.82077224]),\n",
       " 'mean_test_score': array([0.71930386, 0.71930156, 0.7192974 , 0.71929115, 0.71928255,\n",
       "        0.71927134, 0.71925722, 0.7192399 , 0.71921903, 0.71919427,\n",
       "        0.71916523, 0.71913152, 0.71909272, 0.71904836, 0.71899797,\n",
       "        0.71894106, 0.71887709, 0.71880549, 0.71872568, 0.71863705,\n",
       "        0.71853893, 0.71843065, 0.71831148, 0.71818067, 0.71803742,\n",
       "        0.7178809 , 0.71771024, 0.71752451, 0.71732273, 0.71710388,\n",
       "        0.84594555, 0.84635777, 0.84676014, 0.84715241, 0.84753429,\n",
       "        0.84790551, 0.84826577, 0.84861477, 0.8489522 , 0.84927774,\n",
       "        0.84959105, 0.84989176, 0.85017951, 0.85045389, 0.85071448,\n",
       "        0.85096083, 0.85119244, 0.85140877, 0.85160925, 0.85179325,\n",
       "        0.85196009, 0.852109  , 0.85223918, 0.85234974, 0.8524397 ,\n",
       "        0.85250802, 0.85255355, 0.85257507, 0.85257126, 0.8525407 ,\n",
       "        0.75106989, 0.75582534, 0.76046694, 0.76499289, 0.76940143,\n",
       "        0.77369084, 0.77785959, 0.78190629, 0.78582983, 0.78962934,\n",
       "        0.79330427, 0.79685436, 0.80027968, 0.80358059, 0.80675776,\n",
       "        0.80981216, 0.81274501, 0.81555777, 0.81825211, 0.8208299 ,\n",
       "        0.82329314, 0.82564397, 0.82788462, 0.83001739, 0.83204465,\n",
       "        0.83396876, 0.83579214, 0.83751718, 0.83914628, 0.84068183]),\n",
       " 'std_test_score': array([0.03373376, 0.03371754, 0.03369965, 0.03367995, 0.03365831,\n",
       "        0.03363455, 0.03360852, 0.03358004, 0.03354893, 0.03351501,\n",
       "        0.03347808, 0.03343793, 0.03339436, 0.03334715, 0.03329608,\n",
       "        0.03324092, 0.03318145, 0.03311743, 0.03304864, 0.03297484,\n",
       "        0.0328958 , 0.03281129, 0.0327211 , 0.03262502, 0.03252282,\n",
       "        0.03241434, 0.03229937, 0.03217777, 0.03204938, 0.03191409,\n",
       "        0.01078494, 0.01109265, 0.01141353, 0.01174532, 0.01208592,\n",
       "        0.01243341, 0.01278607, 0.01314236, 0.01350091, 0.01386055,\n",
       "        0.01422025, 0.01457917, 0.01493657, 0.0152919 , 0.01564468,\n",
       "        0.0159946 , 0.01634141, 0.01668499, 0.01702531, 0.01736239,\n",
       "        0.01769635, 0.01802736, 0.01835567, 0.01868155, 0.01900534,\n",
       "        0.01932739, 0.01964811, 0.01996792, 0.02028726, 0.02060658,\n",
       "        0.03184303, 0.0320378 , 0.03215124, 0.0321839 , 0.03213687,\n",
       "        0.03201182, 0.03181099, 0.03153716, 0.0311936 , 0.03078404,\n",
       "        0.03031262, 0.02978379, 0.02920231, 0.02857312, 0.02790128,\n",
       "        0.02719196, 0.02645027, 0.02568132, 0.02489004, 0.02408123,\n",
       "        0.02325945, 0.02242899, 0.02159388, 0.02075782, 0.01992416,\n",
       "        0.01909595, 0.01827587, 0.01746627, 0.01666916, 0.01588627]),\n",
       " 'rank_test_score': array([61, 62, 63, 64, 65, 66, 67, 68, 69, 70, 71, 72, 73, 74, 75, 76, 77,\n",
       "        78, 79, 80, 81, 82, 83, 84, 85, 86, 87, 88, 89, 90, 30, 29, 28, 27,\n",
       "        26, 25, 24, 23, 22, 21, 20, 19, 18, 17, 16, 15, 14, 13, 12, 11, 10,\n",
       "         9,  8,  7,  6,  5,  3,  1,  2,  4, 60, 59, 58, 57, 56, 55, 54, 53,\n",
       "        52, 51, 50, 49, 48, 47, 46, 45, 44, 43, 42, 41, 40, 39, 38, 37, 36,\n",
       "        35, 34, 33, 32, 31])}"
      ]
     },
     "execution_count": 63,
     "metadata": {},
     "output_type": "execute_result"
    }
   ],
   "source": [
    "grid.cv_results_"
   ]
  },
  {
   "cell_type": "markdown",
   "id": "d7adc5f2",
   "metadata": {},
   "source": [
    "## Summary\n",
    "\n",
    "1. We can manually generate folds by using `KFolds`\n",
    "2. We can get a score using `cross_val_predict(X, y, cv=KFoldObject_or_integer)`. \n",
    "   This will produce the out-of-bag prediction for each row.\n",
    "3. When doing hyperparameter selection, we should be optimizing on out-of-bag scores. This means either using `cross_val_predict` in a loop, or ....\n",
    "4. .... use `GridSearchCV`. GridSearchCV takes a model (or pipeline) and a dictionary of parameters to scan over. It finds the hyperparameter set that has the best out-of-sample score on all the parameters, and calls that it's \"best estimator\". It then retrains on all data with the \"best\" hyper-parameters."
   ]
  },
  {
   "cell_type": "markdown",
   "id": "e894b2fb",
   "metadata": {},
   "source": [
    "### Extensions\n",
    "\n",
    "Here are some additional items to keep in mind:\n",
    "* There is a `RandomSearchCV` that tries random combination of model parameters. This can be helpful if you have a prohibitive number of combinations to test them all exhaustively.\n",
    "* KFolds will randomly select rows to be in the training and test folds. There are other methods (such as `StratifiedKFolds` and `GroupKFold`, which are useful when you need more control over how the data is split (e.g. to prevent data leakage). You can create these specialized objects **and pass them to the `cv` argument of `GridSearchCV`.**"
   ]
  },
  {
   "cell_type": "code",
   "execution_count": null,
   "id": "8740adcd",
   "metadata": {},
   "outputs": [],
   "source": []
  }
 ],
 "metadata": {
  "kernelspec": {
   "display_name": "Python 3",
   "language": "python",
   "name": "python3"
  },
  "language_info": {
   "codemirror_mode": {
    "name": "ipython",
    "version": 3
   },
   "file_extension": ".py",
   "mimetype": "text/x-python",
   "name": "python",
   "nbconvert_exporter": "python",
   "pygments_lexer": "ipython3",
   "version": "3.8.8"
  }
 },
 "nbformat": 4,
 "nbformat_minor": 5
}
