{
 "cells": [
  {
   "cell_type": "markdown",
   "id": "d0c851d5",
   "metadata": {},
   "source": [
    "# Machine Learning Foundation\n",
    "\n",
    "## Course 5, Part g: RNN DEMO"
   ]
  },
  {
   "cell_type": "markdown",
   "id": "706ac6b4",
   "metadata": {},
   "source": [
    "## Using RNNs to classify sentiment on IMDB data\n",
    "- **For this exercise, we will train a \"vanilla\" RNN to predict the sentiment on IMDB reviews.**\n",
    "- **Our data consists of 25000 training sequences and 25000 test sequences.**\n",
    "- **The outcome is binary (positive/negative) and both outcomes are equally represented in both the training and the test set.**\n",
    "\n",
    "- Keras provides a convenient interface to load the data and immediately encode the words into integers (based on the most common words).\n",
    "- This will save us a lot of the drudgery that is usually involved when working with raw text.\n",
    "\n",
    "- We will walk through the preparation of the data and the building of an RNN model.\n",
    "- Then it will be your turn to build your own models (and prepare the data how you see fit)."
   ]
  },
  {
   "cell_type": "code",
   "execution_count": 1,
   "id": "197edb26",
   "metadata": {},
   "outputs": [],
   "source": [
    "import tensorflow as tf\n",
    "from tensorflow import keras"
   ]
  },
  {
   "cell_type": "code",
   "execution_count": 2,
   "id": "931da7ce",
   "metadata": {},
   "outputs": [],
   "source": [
    "max_features = 20000 # This is used in loading the data, picks the most common (max_features) words\n",
    "maxlen = 30 # Maximum length of a sequence - truncate after this\n",
    "batch_size = 32"
   ]
  },
  {
   "cell_type": "code",
   "execution_count": 3,
   "id": "fd0f2afd",
   "metadata": {},
   "outputs": [
    {
     "name": "stdout",
     "output_type": "stream",
     "text": [
      "Downloading data from https://storage.googleapis.com/tensorflow/tf-keras-datasets/imdb.npz\n",
      "17465344/17464789 [==============================] - 11s 1us/step\n"
     ]
    },
    {
     "name": "stderr",
     "output_type": "stream",
     "text": [
      "<__array_function__ internals>:5: VisibleDeprecationWarning: Creating an ndarray from ragged nested sequences (which is a list-or-tuple of lists-or-tuples-or ndarrays with different lengths or shapes) is deprecated. If you meant to do this, you must specify 'dtype=object' when creating the ndarray\n",
      "C:\\Users\\batuh\\anaconda3\\lib\\site-packages\\tensorflow\\python\\keras\\datasets\\imdb.py:155: VisibleDeprecationWarning: Creating an ndarray from ragged nested sequences (which is a list-or-tuple of lists-or-tuples-or ndarrays with different lengths or shapes) is deprecated. If you meant to do this, you must specify 'dtype=object' when creating the ndarray\n",
      "  x_train, y_train = np.array(xs[:idx]), np.array(labels[:idx])\n"
     ]
    },
    {
     "name": "stdout",
     "output_type": "stream",
     "text": [
      "25000 train sequences\n",
      "25000 test sequences\n"
     ]
    },
    {
     "name": "stderr",
     "output_type": "stream",
     "text": [
      "C:\\Users\\batuh\\anaconda3\\lib\\site-packages\\tensorflow\\python\\keras\\datasets\\imdb.py:156: VisibleDeprecationWarning: Creating an ndarray from ragged nested sequences (which is a list-or-tuple of lists-or-tuples-or ndarrays with different lengths or shapes) is deprecated. If you meant to do this, you must specify 'dtype=object' when creating the ndarray\n",
      "  x_test, y_test = np.array(xs[idx:]), np.array(labels[idx:])\n"
     ]
    }
   ],
   "source": [
    "# Load in the data.\n",
    "# The function automatically tokenizes the text into distinct integers.\n",
    "(x_train, y_train), (x_test, y_test) = tf.keras.datasets.imdb.load_data(num_words=max_features)\n",
    "print(f\"{len(x_train)} train sequences\")\n",
    "print(f\"{len(x_test)} test sequences\")"
   ]
  },
  {
   "cell_type": "code",
   "execution_count": 8,
   "id": "78b4235f",
   "metadata": {},
   "outputs": [
    {
     "name": "stdout",
     "output_type": "stream",
     "text": [
      "x_train shape: (25000, 30)\n",
      "x_test shape: (25000, 30)\n"
     ]
    }
   ],
   "source": [
    "# This pads (or truncates) the sequences so that they are of the maximum length\n",
    "x_train = tf.keras.preprocessing.sequence.pad_sequences(x_train, maxlen=maxlen)\n",
    "x_test = tf.keras.preprocessing.sequence.pad_sequences(x_test, maxlen=maxlen)\n",
    "print(f\"x_train shape: {x_train.shape}\")\n",
    "print(f\"x_test shape: {x_test.shape}\")"
   ]
  },
  {
   "cell_type": "code",
   "execution_count": 9,
   "id": "fc592854",
   "metadata": {},
   "outputs": [
    {
     "data": {
      "text/plain": [
       "array([  219,   141,    35,   221,   956,    54,    13,    16,    11,\n",
       "        2714,    61,   322,   423,    12,    38,    76,    59,  1803,\n",
       "          72,     8, 10508,    23,     5,   967,    12,    38,    85,\n",
       "          62,   358,    99])"
      ]
     },
     "execution_count": 9,
     "metadata": {},
     "output_type": "execute_result"
    }
   ],
   "source": [
    "x_train[123, :]"
   ]
  },
  {
   "cell_type": "markdown",
   "id": "1dfa0357",
   "metadata": {},
   "source": [
    "## Keras layers for (Vanilla) RNNs\n",
    "\n",
    "In this exercise, we will not use pre-trained word vectors.  Rather we will learn an embedding as part of the Neural Network.  This is represented by the Embedding Layer below.\n",
    "\n",
    "### Embedding Layer\n",
    "`tf.keras.layers.Embedding(\n",
    "    input_dim,\n",
    "    output_dim,\n",
    "    embeddings_initializer=\"uniform\",\n",
    "    embeddings_regularizer=None,\n",
    "    activity_regularizer=None,\n",
    "    embeddings_constraint=None,\n",
    "    mask_zero=False,\n",
    "    input_length=None,\n",
    "    **kwargs\n",
    ")`\n",
    "\n",
    "- This layer maps each integer into a distinct (dense) word vector of length `output_dim`.\n",
    "- Can think of this as learning a word vector embedding \"on the fly\" rather than using an existing mapping (like GloVe)\n",
    "- The `input_dim` should be the size of the vocabulary.\n",
    "- The `input_length` specifies the length of the sequences that the network expects.\n",
    "\n",
    "### SimpleRNN Layer\n",
    "`tf.keras.layers.SimpleRNN(units, activation='tanh', use_bias=True, kernel_initializer='glorot_uniform', recurrent_initializer='orthogonal', bias_initializer='zeros', kernel_regularizer=None, recurrent_regularizer=None, bias_regularizer=None, activity_regularizer=None, kernel_constraint=None, recurrent_constraint=None, bias_constraint=None, dropout=0.0, recurrent_dropout=0.0)`\n",
    "\n",
    "- This is the basic RNN, where the output is also fed back as the \"hidden state\" to the next iteration.\n",
    "- The parameter `units` gives the dimensionality of the output (and therefore the hidden state).  \n",
    "    - Note that typically there will be another layer after the RNN mapping the (RNN) output to the network output.\n",
    "    - So we should think of this value as the desired dimensionality of the hidden state and not necessarily the desired output of the network.\n",
    "- Recall that there are two sets of weights, one for the \"recurrent\" phase and the other for the \"kernel\" phase.  These can be configured separately in terms of their initialization, regularization, etc."
   ]
  },
  {
   "cell_type": "code",
   "execution_count": 11,
   "id": "4b2abbce",
   "metadata": {},
   "outputs": [],
   "source": [
    "# Let's build a RNN\n",
    "rnn_hidden_dim = 5\n",
    "word_embedding_dim = 50\n",
    "\n",
    "model_rnn = tf.keras.models.Sequential()\n",
    "model_rnn.add(tf.keras.layers.Embedding(max_features, word_embedding_dim)) #This layer takes each integer in the sequence and embeds it in a 50-dimensional vector\n",
    "model_rnn.add(tf.keras.layers.SimpleRNN(rnn_hidden_dim,\n",
    "                                       kernel_initializer=tf.keras.initializers.RandomNormal(stddev=0.001),\n",
    "                                       recurrent_initializer=tf.keras.initializers.Identity(gain=1.0),\n",
    "                                       activation=\"relu\",\n",
    "                                       input_shape=x_train.shape[1:]))\n",
    "model_rnn.add(tf.keras.layers.Dense(1, activation=\"sigmoid\"))"
   ]
  },
  {
   "cell_type": "code",
   "execution_count": 12,
   "id": "593133a3",
   "metadata": {},
   "outputs": [
    {
     "name": "stdout",
     "output_type": "stream",
     "text": [
      "Model: \"sequential\"\n",
      "_________________________________________________________________\n",
      "Layer (type)                 Output Shape              Param #   \n",
      "=================================================================\n",
      "embedding (Embedding)        (None, None, 50)          1000000   \n",
      "_________________________________________________________________\n",
      "simple_rnn (SimpleRNN)       (None, 5)                 280       \n",
      "_________________________________________________________________\n",
      "dense (Dense)                (None, 1)                 6         \n",
      "=================================================================\n",
      "Total params: 1,000,286\n",
      "Trainable params: 1,000,286\n",
      "Non-trainable params: 0\n",
      "_________________________________________________________________\n"
     ]
    }
   ],
   "source": [
    "## Note that most of the parameters come from the embedding layer\n",
    "model_rnn.summary()"
   ]
  },
  {
   "cell_type": "code",
   "execution_count": 13,
   "id": "8f6ab179",
   "metadata": {},
   "outputs": [],
   "source": [
    "rmsprop = tf.keras.optimizers.RMSprop(learning_rate=0.0001)\n",
    "\n",
    "model_rnn.compile(loss=\"binary_crossentropy\",\n",
    "                  optimizer=rmsprop,\n",
    "                  metrics=[\"accuracy\"])"
   ]
  },
  {
   "cell_type": "code",
   "execution_count": 14,
   "id": "5c3cbbb3",
   "metadata": {},
   "outputs": [
    {
     "name": "stdout",
     "output_type": "stream",
     "text": [
      "Epoch 1/10\n",
      "782/782 [==============================] - 7s 8ms/step - loss: 0.6537 - accuracy: 0.6278 - val_loss: 0.5925 - val_accuracy: 0.6900\n",
      "Epoch 2/10\n",
      "782/782 [==============================] - 6s 7ms/step - loss: 0.5457 - accuracy: 0.7224 - val_loss: 0.5405 - val_accuracy: 0.7215\n",
      "Epoch 3/10\n",
      "782/782 [==============================] - 6s 7ms/step - loss: 0.4866 - accuracy: 0.7666 - val_loss: 0.5014 - val_accuracy: 0.7491\n",
      "Epoch 4/10\n",
      "782/782 [==============================] - 6s 7ms/step - loss: 0.4473 - accuracy: 0.7918 - val_loss: 0.4800 - val_accuracy: 0.7643\n",
      "Epoch 5/10\n",
      "782/782 [==============================] - 6s 7ms/step - loss: 0.4200 - accuracy: 0.8064 - val_loss: 0.4666 - val_accuracy: 0.7725\n",
      "Epoch 6/10\n",
      "782/782 [==============================] - 6s 7ms/step - loss: 0.4003 - accuracy: 0.8190 - val_loss: 0.4580 - val_accuracy: 0.7794\n",
      "Epoch 7/10\n",
      "782/782 [==============================] - 6s 8ms/step - loss: 0.3853 - accuracy: 0.8264 - val_loss: 0.4509 - val_accuracy: 0.7853\n",
      "Epoch 8/10\n",
      "782/782 [==============================] - 6s 7ms/step - loss: 0.3742 - accuracy: 0.8327 - val_loss: 0.4506 - val_accuracy: 0.7861\n",
      "Epoch 9/10\n",
      "782/782 [==============================] - 6s 7ms/step - loss: 0.3658 - accuracy: 0.8383 - val_loss: 0.4476 - val_accuracy: 0.7886\n",
      "Epoch 10/10\n",
      "782/782 [==============================] - 6s 7ms/step - loss: 0.3587 - accuracy: 0.8408 - val_loss: 0.4496 - val_accuracy: 0.7893\n"
     ]
    },
    {
     "data": {
      "text/plain": [
       "<tensorflow.python.keras.callbacks.History at 0x2132740ed30>"
      ]
     },
     "execution_count": 14,
     "metadata": {},
     "output_type": "execute_result"
    }
   ],
   "source": [
    "model_rnn.fit(x_train, y_train, batch_size=batch_size,\n",
    "              epochs=10, validation_data=(x_test, y_test))"
   ]
  },
  {
   "cell_type": "code",
   "execution_count": 15,
   "id": "d32c8327",
   "metadata": {},
   "outputs": [
    {
     "name": "stdout",
     "output_type": "stream",
     "text": [
      "782/782 [==============================] - 1s 1ms/step - loss: 0.4496 - accuracy: 0.7893\n",
      "Test score: 0.44961902499198914\n",
      "Test accuracy: 0.7893199920654297\n"
     ]
    }
   ],
   "source": [
    "score, acc = model_rnn.evaluate(x_test, y_test,\n",
    "                                batch_size=batch_size)\n",
    "print(f\"Test score: {score}\")\n",
    "print(f\"Test accuracy: {acc}\")"
   ]
  },
  {
   "cell_type": "markdown",
   "id": "0b1a6e47",
   "metadata": {},
   "source": [
    "## Exercise\n",
    "\n",
    "In this exercise, we will illustrate:\n",
    "- Preparing the data to use sequences of length 80 rather than length 30.  Does it improve the performance?\n",
    "- Trying different values of the \"max_features\".  Does this  improve the performance?\n",
    "- Trying smaller and larger sizes of the RNN hidden dimension.  How does it affect the model performance?  How does it affect the run time?"
   ]
  },
  {
   "cell_type": "code",
   "execution_count": 16,
   "id": "0391418d",
   "metadata": {},
   "outputs": [
    {
     "name": "stderr",
     "output_type": "stream",
     "text": [
      "<__array_function__ internals>:5: VisibleDeprecationWarning: Creating an ndarray from ragged nested sequences (which is a list-or-tuple of lists-or-tuples-or ndarrays with different lengths or shapes) is deprecated. If you meant to do this, you must specify 'dtype=object' when creating the ndarray\n",
      "C:\\Users\\batuh\\anaconda3\\lib\\site-packages\\tensorflow\\python\\keras\\datasets\\imdb.py:155: VisibleDeprecationWarning: Creating an ndarray from ragged nested sequences (which is a list-or-tuple of lists-or-tuples-or ndarrays with different lengths or shapes) is deprecated. If you meant to do this, you must specify 'dtype=object' when creating the ndarray\n",
      "  x_train, y_train = np.array(xs[:idx]), np.array(labels[:idx])\n",
      "C:\\Users\\batuh\\anaconda3\\lib\\site-packages\\tensorflow\\python\\keras\\datasets\\imdb.py:156: VisibleDeprecationWarning: Creating an ndarray from ragged nested sequences (which is a list-or-tuple of lists-or-tuples-or ndarrays with different lengths or shapes) is deprecated. If you meant to do this, you must specify 'dtype=object' when creating the ndarray\n",
      "  x_test, y_test = np.array(xs[idx:]), np.array(labels[idx:])\n"
     ]
    }
   ],
   "source": [
    "max_features = 20000  # This is used in loading the data, picks the most common (max_features) words\n",
    "maxlen = 80  # maximum length of a sequence - truncate after this\n",
    "\n",
    "(x_train, y_train), (x_test, y_test) = tf.keras.datasets.imdb.load_data(num_words=max_features)\n",
    "\n",
    "x_train = tf.keras.preprocessing.sequence.pad_sequences(x_train, maxlen=maxlen)\n",
    "x_test = tf.keras.preprocessing.sequence.pad_sequences(x_test, maxlen=maxlen)"
   ]
  },
  {
   "cell_type": "code",
   "execution_count": 18,
   "id": "b9b92d82",
   "metadata": {},
   "outputs": [],
   "source": [
    "rnn_hidden_dim = 5\n",
    "word_embedding_dim = 50\n",
    "model_rnn = tf.keras.models.Sequential()\n",
    "model_rnn.add(tf.keras.layers.Embedding(max_features, word_embedding_dim)) #This layer takes each integer in the sequence\n",
    "model_rnn.add(tf.keras.layers.SimpleRNN(rnn_hidden_dim,\n",
    "                                    kernel_initializer=tf.keras.initializers.RandomNormal(stddev=0.001),\n",
    "                                    recurrent_initializer=tf.keras.initializers.Identity(gain=1.0),\n",
    "                                    activation='relu',\n",
    "                                    input_shape=x_train.shape[1:]))\n",
    "model_rnn.add(tf.keras.layers.Dense(1, activation=\"sigmoid\"))"
   ]
  },
  {
   "cell_type": "code",
   "execution_count": 20,
   "id": "49123a59",
   "metadata": {},
   "outputs": [],
   "source": [
    "rmsprop = tf.keras.optimizers.RMSprop(learning_rate = .0001)\n",
    "\n",
    "model_rnn.compile(loss=\"binary_crossentropy\",\n",
    "                  optimizer=rmsprop,\n",
    "                  metrics=[\"accuracy\"])"
   ]
  },
  {
   "cell_type": "code",
   "execution_count": 21,
   "id": "561a2c03",
   "metadata": {},
   "outputs": [
    {
     "name": "stdout",
     "output_type": "stream",
     "text": [
      "Epoch 1/10\n",
      "782/782 [==============================] - 13s 16ms/step - loss: 0.6400 - accuracy: 0.6364 - val_loss: 0.5515 - val_accuracy: 0.7299\n",
      "Epoch 2/10\n",
      "782/782 [==============================] - 12s 15ms/step - loss: 0.4941 - accuracy: 0.7615 - val_loss: 0.5046 - val_accuracy: 0.7542\n",
      "Epoch 3/10\n",
      "782/782 [==============================] - 12s 15ms/step - loss: 0.4349 - accuracy: 0.8002 - val_loss: 0.4671 - val_accuracy: 0.7813\n",
      "Epoch 4/10\n",
      "782/782 [==============================] - 12s 15ms/step - loss: 0.3942 - accuracy: 0.8232 - val_loss: 0.4421 - val_accuracy: 0.7922\n",
      "Epoch 5/10\n",
      "782/782 [==============================] - 12s 15ms/step - loss: 0.3629 - accuracy: 0.8415 - val_loss: 0.4266 - val_accuracy: 0.8014\n",
      "Epoch 6/10\n",
      "782/782 [==============================] - 12s 15ms/step - loss: 0.3383 - accuracy: 0.8552 - val_loss: 0.4069 - val_accuracy: 0.8140\n",
      "Epoch 7/10\n",
      "782/782 [==============================] - 12s 15ms/step - loss: 0.3176 - accuracy: 0.8654 - val_loss: 0.4001 - val_accuracy: 0.8178\n",
      "Epoch 8/10\n",
      "782/782 [==============================] - 12s 15ms/step - loss: 0.3009 - accuracy: 0.8746 - val_loss: 0.3907 - val_accuracy: 0.8241\n",
      "Epoch 9/10\n",
      "782/782 [==============================] - 12s 15ms/step - loss: 0.2871 - accuracy: 0.8809 - val_loss: 0.3795 - val_accuracy: 0.8296\n",
      "Epoch 10/10\n",
      "782/782 [==============================] - 12s 15ms/step - loss: 0.2749 - accuracy: 0.8874 - val_loss: 0.3700 - val_accuracy: 0.8363\n"
     ]
    },
    {
     "data": {
      "text/plain": [
       "<tensorflow.python.keras.callbacks.History at 0x213220060a0>"
      ]
     },
     "execution_count": 21,
     "metadata": {},
     "output_type": "execute_result"
    }
   ],
   "source": [
    "model_rnn.fit(x_train, y_train,\n",
    "          batch_size=batch_size,\n",
    "          epochs=10,\n",
    "          validation_data=(x_test, y_test))"
   ]
  },
  {
   "cell_type": "markdown",
   "id": "c33c5a35",
   "metadata": {},
   "source": [
    "***"
   ]
  },
  {
   "cell_type": "code",
   "execution_count": 22,
   "id": "fec00bb1",
   "metadata": {},
   "outputs": [],
   "source": [
    "rnn_hidden_dim = 5\n",
    "word_embedding_dim = 20\n",
    "model_rnn = tf.keras.models.Sequential()\n",
    "model_rnn.add(tf.keras.layers.Embedding(max_features, word_embedding_dim)) #This layer takes each integer in the sequence\n",
    "model_rnn.add(tf.keras.layers.SimpleRNN(rnn_hidden_dim,\n",
    "                                    kernel_initializer=tf.keras.initializers.RandomNormal(stddev=0.001),\n",
    "                                    recurrent_initializer=tf.keras.initializers.Identity(gain=1.0),\n",
    "                                    activation='relu',\n",
    "                                    input_shape=x_train.shape[1:]))\n",
    "model_rnn.add(tf.keras.layers.Dense(1, activation=\"sigmoid\"))"
   ]
  },
  {
   "cell_type": "code",
   "execution_count": 23,
   "id": "eb469e02",
   "metadata": {},
   "outputs": [],
   "source": [
    "rmsprop = tf.keras.optimizers.RMSprop(learning_rate = .0001)\n",
    "\n",
    "model_rnn.compile(loss=\"binary_crossentropy\",\n",
    "                  optimizer=rmsprop,\n",
    "                  metrics=[\"accuracy\"])"
   ]
  },
  {
   "cell_type": "code",
   "execution_count": 24,
   "id": "5e0b8323",
   "metadata": {},
   "outputs": [
    {
     "name": "stdout",
     "output_type": "stream",
     "text": [
      "Epoch 1/10\n",
      "782/782 [==============================] - 12s 14ms/step - loss: 0.6458 - accuracy: 0.6299 - val_loss: 0.5710 - val_accuracy: 0.7117\n",
      "Epoch 2/10\n",
      "782/782 [==============================] - 11s 14ms/step - loss: 0.5139 - accuracy: 0.7497 - val_loss: 0.5011 - val_accuracy: 0.7589\n",
      "Epoch 3/10\n",
      "782/782 [==============================] - 11s 14ms/step - loss: 0.4495 - accuracy: 0.7909 - val_loss: 0.4698 - val_accuracy: 0.7770\n",
      "Epoch 4/10\n",
      "782/782 [==============================] - 11s 14ms/step - loss: 0.4065 - accuracy: 0.8181 - val_loss: 0.4427 - val_accuracy: 0.7923\n",
      "Epoch 5/10\n",
      "782/782 [==============================] - 11s 14ms/step - loss: 0.3720 - accuracy: 0.8392 - val_loss: 0.4220 - val_accuracy: 0.8021\n",
      "Epoch 6/10\n",
      "782/782 [==============================] - 11s 14ms/step - loss: 0.3453 - accuracy: 0.8537 - val_loss: 0.4040 - val_accuracy: 0.8151\n",
      "Epoch 7/10\n",
      "782/782 [==============================] - 11s 14ms/step - loss: 0.3257 - accuracy: 0.8622 - val_loss: 0.4089 - val_accuracy: 0.8146\n",
      "Epoch 8/10\n",
      "782/782 [==============================] - 11s 14ms/step - loss: 0.3105 - accuracy: 0.8694 - val_loss: 0.4131 - val_accuracy: 0.8091\n",
      "Epoch 9/10\n",
      "782/782 [==============================] - 11s 14ms/step - loss: 0.2980 - accuracy: 0.8774 - val_loss: 0.3894 - val_accuracy: 0.8251\n",
      "Epoch 10/10\n",
      "782/782 [==============================] - 11s 14ms/step - loss: 0.2873 - accuracy: 0.8812 - val_loss: 0.3803 - val_accuracy: 0.8310\n"
     ]
    },
    {
     "data": {
      "text/plain": [
       "<tensorflow.python.keras.callbacks.History at 0x21318fffa60>"
      ]
     },
     "execution_count": 24,
     "metadata": {},
     "output_type": "execute_result"
    }
   ],
   "source": [
    "model_rnn.fit(x_train, y_train,\n",
    "          batch_size=batch_size,\n",
    "          epochs=10,\n",
    "          validation_data=(x_test, y_test))"
   ]
  },
  {
   "cell_type": "code",
   "execution_count": null,
   "id": "ace2b1cb",
   "metadata": {},
   "outputs": [],
   "source": []
  }
 ],
 "metadata": {
  "kernelspec": {
   "display_name": "Python 3",
   "language": "python",
   "name": "python3"
  },
  "language_info": {
   "codemirror_mode": {
    "name": "ipython",
    "version": 3
   },
   "file_extension": ".py",
   "mimetype": "text/x-python",
   "name": "python",
   "nbconvert_exporter": "python",
   "pygments_lexer": "ipython3",
   "version": "3.8.8"
  }
 },
 "nbformat": 4,
 "nbformat_minor": 5
}
